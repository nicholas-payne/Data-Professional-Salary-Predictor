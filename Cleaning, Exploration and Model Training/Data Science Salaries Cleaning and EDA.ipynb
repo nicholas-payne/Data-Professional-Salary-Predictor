{
 "cells": [
  {
   "cell_type": "code",
   "execution_count": 1,
   "id": "7c1b0191",
   "metadata": {},
   "outputs": [],
   "source": [
    "import numpy as np\n",
    "import pandas as pd\n",
    "import matplotlib.pyplot as plt\n",
    "import seaborn as sns\n",
    "import json\n",
    "import pickle\n",
    "from sklearn.linear_model import LinearRegression"
   ]
  },
  {
   "cell_type": "code",
   "execution_count": 2,
   "id": "69d01430",
   "metadata": {},
   "outputs": [
    {
     "data": {
      "text/html": [
       "<div>\n",
       "<style scoped>\n",
       "    .dataframe tbody tr th:only-of-type {\n",
       "        vertical-align: middle;\n",
       "    }\n",
       "\n",
       "    .dataframe tbody tr th {\n",
       "        vertical-align: top;\n",
       "    }\n",
       "\n",
       "    .dataframe thead th {\n",
       "        text-align: right;\n",
       "    }\n",
       "</style>\n",
       "<table border=\"1\" class=\"dataframe\">\n",
       "  <thead>\n",
       "    <tr style=\"text-align: right;\">\n",
       "      <th></th>\n",
       "      <th>work_year</th>\n",
       "      <th>experience_level</th>\n",
       "      <th>employment_type</th>\n",
       "      <th>job_title</th>\n",
       "      <th>salary</th>\n",
       "      <th>salary_currency</th>\n",
       "      <th>salary_in_usd</th>\n",
       "      <th>employee_residence</th>\n",
       "      <th>remote_ratio</th>\n",
       "      <th>company_location</th>\n",
       "      <th>company_size</th>\n",
       "    </tr>\n",
       "  </thead>\n",
       "  <tbody>\n",
       "    <tr>\n",
       "      <th>0</th>\n",
       "      <td>2024</td>\n",
       "      <td>SE</td>\n",
       "      <td>FT</td>\n",
       "      <td>Data Architect</td>\n",
       "      <td>363000</td>\n",
       "      <td>USD</td>\n",
       "      <td>363000</td>\n",
       "      <td>US</td>\n",
       "      <td>0</td>\n",
       "      <td>US</td>\n",
       "      <td>M</td>\n",
       "    </tr>\n",
       "    <tr>\n",
       "      <th>1</th>\n",
       "      <td>2024</td>\n",
       "      <td>SE</td>\n",
       "      <td>FT</td>\n",
       "      <td>Data Architect</td>\n",
       "      <td>139800</td>\n",
       "      <td>USD</td>\n",
       "      <td>139800</td>\n",
       "      <td>US</td>\n",
       "      <td>0</td>\n",
       "      <td>US</td>\n",
       "      <td>M</td>\n",
       "    </tr>\n",
       "    <tr>\n",
       "      <th>2</th>\n",
       "      <td>2024</td>\n",
       "      <td>MI</td>\n",
       "      <td>FT</td>\n",
       "      <td>Data Scientist</td>\n",
       "      <td>109000</td>\n",
       "      <td>USD</td>\n",
       "      <td>109000</td>\n",
       "      <td>US</td>\n",
       "      <td>100</td>\n",
       "      <td>US</td>\n",
       "      <td>M</td>\n",
       "    </tr>\n",
       "    <tr>\n",
       "      <th>3</th>\n",
       "      <td>2024</td>\n",
       "      <td>MI</td>\n",
       "      <td>FT</td>\n",
       "      <td>Data Scientist</td>\n",
       "      <td>93000</td>\n",
       "      <td>USD</td>\n",
       "      <td>93000</td>\n",
       "      <td>US</td>\n",
       "      <td>100</td>\n",
       "      <td>US</td>\n",
       "      <td>M</td>\n",
       "    </tr>\n",
       "    <tr>\n",
       "      <th>4</th>\n",
       "      <td>2024</td>\n",
       "      <td>MI</td>\n",
       "      <td>FT</td>\n",
       "      <td>Research Engineer</td>\n",
       "      <td>35000</td>\n",
       "      <td>EUR</td>\n",
       "      <td>38888</td>\n",
       "      <td>PT</td>\n",
       "      <td>0</td>\n",
       "      <td>PT</td>\n",
       "      <td>M</td>\n",
       "    </tr>\n",
       "    <tr>\n",
       "      <th>5</th>\n",
       "      <td>2024</td>\n",
       "      <td>MI</td>\n",
       "      <td>FT</td>\n",
       "      <td>Research Engineer</td>\n",
       "      <td>26000</td>\n",
       "      <td>EUR</td>\n",
       "      <td>28888</td>\n",
       "      <td>PT</td>\n",
       "      <td>0</td>\n",
       "      <td>PT</td>\n",
       "      <td>M</td>\n",
       "    </tr>\n",
       "    <tr>\n",
       "      <th>6</th>\n",
       "      <td>2024</td>\n",
       "      <td>SE</td>\n",
       "      <td>FT</td>\n",
       "      <td>Data Scientist</td>\n",
       "      <td>248600</td>\n",
       "      <td>USD</td>\n",
       "      <td>248600</td>\n",
       "      <td>US</td>\n",
       "      <td>0</td>\n",
       "      <td>US</td>\n",
       "      <td>M</td>\n",
       "    </tr>\n",
       "    <tr>\n",
       "      <th>7</th>\n",
       "      <td>2024</td>\n",
       "      <td>SE</td>\n",
       "      <td>FT</td>\n",
       "      <td>Data Scientist</td>\n",
       "      <td>149200</td>\n",
       "      <td>USD</td>\n",
       "      <td>149200</td>\n",
       "      <td>US</td>\n",
       "      <td>0</td>\n",
       "      <td>US</td>\n",
       "      <td>M</td>\n",
       "    </tr>\n",
       "    <tr>\n",
       "      <th>8</th>\n",
       "      <td>2024</td>\n",
       "      <td>SE</td>\n",
       "      <td>FT</td>\n",
       "      <td>Business Intelligence</td>\n",
       "      <td>175000</td>\n",
       "      <td>USD</td>\n",
       "      <td>175000</td>\n",
       "      <td>US</td>\n",
       "      <td>0</td>\n",
       "      <td>US</td>\n",
       "      <td>M</td>\n",
       "    </tr>\n",
       "    <tr>\n",
       "      <th>9</th>\n",
       "      <td>2024</td>\n",
       "      <td>SE</td>\n",
       "      <td>FT</td>\n",
       "      <td>Business Intelligence</td>\n",
       "      <td>150000</td>\n",
       "      <td>USD</td>\n",
       "      <td>150000</td>\n",
       "      <td>US</td>\n",
       "      <td>0</td>\n",
       "      <td>US</td>\n",
       "      <td>M</td>\n",
       "    </tr>\n",
       "  </tbody>\n",
       "</table>\n",
       "</div>"
      ],
      "text/plain": [
       "   work_year experience_level employment_type              job_title  salary  \\\n",
       "0       2024               SE              FT         Data Architect  363000   \n",
       "1       2024               SE              FT         Data Architect  139800   \n",
       "2       2024               MI              FT         Data Scientist  109000   \n",
       "3       2024               MI              FT         Data Scientist   93000   \n",
       "4       2024               MI              FT      Research Engineer   35000   \n",
       "5       2024               MI              FT      Research Engineer   26000   \n",
       "6       2024               SE              FT         Data Scientist  248600   \n",
       "7       2024               SE              FT         Data Scientist  149200   \n",
       "8       2024               SE              FT  Business Intelligence  175000   \n",
       "9       2024               SE              FT  Business Intelligence  150000   \n",
       "\n",
       "  salary_currency  salary_in_usd employee_residence  remote_ratio  \\\n",
       "0             USD         363000                 US             0   \n",
       "1             USD         139800                 US             0   \n",
       "2             USD         109000                 US           100   \n",
       "3             USD          93000                 US           100   \n",
       "4             EUR          38888                 PT             0   \n",
       "5             EUR          28888                 PT             0   \n",
       "6             USD         248600                 US             0   \n",
       "7             USD         149200                 US             0   \n",
       "8             USD         175000                 US             0   \n",
       "9             USD         150000                 US             0   \n",
       "\n",
       "  company_location company_size  \n",
       "0               US            M  \n",
       "1               US            M  \n",
       "2               US            M  \n",
       "3               US            M  \n",
       "4               PT            M  \n",
       "5               PT            M  \n",
       "6               US            M  \n",
       "7               US            M  \n",
       "8               US            M  \n",
       "9               US            M  "
      ]
     },
     "execution_count": 2,
     "metadata": {},
     "output_type": "execute_result"
    }
   ],
   "source": [
    "df = pd.read_csv('https://ai-jobs.net/salaries/download/salaries.csv')\n",
    "df.drop_duplicates(inplace=True)\n",
    "df.head(10)"
   ]
  },
  {
   "cell_type": "markdown",
   "id": "f8d92b79",
   "metadata": {},
   "source": [
    "## Dropping appropriate columns\n",
    "The salary combined with salary_currency is the same as the salary_in_usd column that is our target variable. It is debatable whether we can use the salary currency without the salary but realistically the currency should be highly correlated to the country column (with less granularity of course) so I will drop it."
   ]
  },
  {
   "cell_type": "code",
   "execution_count": 3,
   "id": "18da58c6",
   "metadata": {},
   "outputs": [
    {
     "data": {
      "text/html": [
       "<div>\n",
       "<style scoped>\n",
       "    .dataframe tbody tr th:only-of-type {\n",
       "        vertical-align: middle;\n",
       "    }\n",
       "\n",
       "    .dataframe tbody tr th {\n",
       "        vertical-align: top;\n",
       "    }\n",
       "\n",
       "    .dataframe thead th {\n",
       "        text-align: right;\n",
       "    }\n",
       "</style>\n",
       "<table border=\"1\" class=\"dataframe\">\n",
       "  <thead>\n",
       "    <tr style=\"text-align: right;\">\n",
       "      <th></th>\n",
       "      <th>work_year</th>\n",
       "      <th>experience_level</th>\n",
       "      <th>employment_type</th>\n",
       "      <th>job_title</th>\n",
       "      <th>salary_in_usd</th>\n",
       "      <th>employee_residence</th>\n",
       "      <th>remote_ratio</th>\n",
       "      <th>company_location</th>\n",
       "      <th>company_size</th>\n",
       "    </tr>\n",
       "  </thead>\n",
       "  <tbody>\n",
       "    <tr>\n",
       "      <th>0</th>\n",
       "      <td>2024</td>\n",
       "      <td>SE</td>\n",
       "      <td>FT</td>\n",
       "      <td>Data Architect</td>\n",
       "      <td>363000</td>\n",
       "      <td>US</td>\n",
       "      <td>0</td>\n",
       "      <td>US</td>\n",
       "      <td>M</td>\n",
       "    </tr>\n",
       "    <tr>\n",
       "      <th>1</th>\n",
       "      <td>2024</td>\n",
       "      <td>SE</td>\n",
       "      <td>FT</td>\n",
       "      <td>Data Architect</td>\n",
       "      <td>139800</td>\n",
       "      <td>US</td>\n",
       "      <td>0</td>\n",
       "      <td>US</td>\n",
       "      <td>M</td>\n",
       "    </tr>\n",
       "    <tr>\n",
       "      <th>2</th>\n",
       "      <td>2024</td>\n",
       "      <td>MI</td>\n",
       "      <td>FT</td>\n",
       "      <td>Data Scientist</td>\n",
       "      <td>109000</td>\n",
       "      <td>US</td>\n",
       "      <td>100</td>\n",
       "      <td>US</td>\n",
       "      <td>M</td>\n",
       "    </tr>\n",
       "    <tr>\n",
       "      <th>3</th>\n",
       "      <td>2024</td>\n",
       "      <td>MI</td>\n",
       "      <td>FT</td>\n",
       "      <td>Data Scientist</td>\n",
       "      <td>93000</td>\n",
       "      <td>US</td>\n",
       "      <td>100</td>\n",
       "      <td>US</td>\n",
       "      <td>M</td>\n",
       "    </tr>\n",
       "    <tr>\n",
       "      <th>4</th>\n",
       "      <td>2024</td>\n",
       "      <td>MI</td>\n",
       "      <td>FT</td>\n",
       "      <td>Research Engineer</td>\n",
       "      <td>38888</td>\n",
       "      <td>PT</td>\n",
       "      <td>0</td>\n",
       "      <td>PT</td>\n",
       "      <td>M</td>\n",
       "    </tr>\n",
       "  </tbody>\n",
       "</table>\n",
       "</div>"
      ],
      "text/plain": [
       "   work_year experience_level employment_type          job_title  \\\n",
       "0       2024               SE              FT     Data Architect   \n",
       "1       2024               SE              FT     Data Architect   \n",
       "2       2024               MI              FT     Data Scientist   \n",
       "3       2024               MI              FT     Data Scientist   \n",
       "4       2024               MI              FT  Research Engineer   \n",
       "\n",
       "   salary_in_usd employee_residence  remote_ratio company_location  \\\n",
       "0         363000                 US             0               US   \n",
       "1         139800                 US             0               US   \n",
       "2         109000                 US           100               US   \n",
       "3          93000                 US           100               US   \n",
       "4          38888                 PT             0               PT   \n",
       "\n",
       "  company_size  \n",
       "0            M  \n",
       "1            M  \n",
       "2            M  \n",
       "3            M  \n",
       "4            M  "
      ]
     },
     "execution_count": 3,
     "metadata": {},
     "output_type": "execute_result"
    }
   ],
   "source": [
    "drop_columns = ['salary','salary_currency']\n",
    "df.drop(drop_columns,axis=1,inplace=True)\n",
    "df.head()"
   ]
  },
  {
   "cell_type": "markdown",
   "id": "1cc1b243",
   "metadata": {},
   "source": [
    "## Consolidating Job Titles"
   ]
  },
  {
   "cell_type": "code",
   "execution_count": 4,
   "id": "a39eebd7",
   "metadata": {},
   "outputs": [
    {
     "data": {
      "text/plain": [
       "array(['AI Architect', 'AI Developer', 'AI Engineer',\n",
       "       'AI Product Manager', 'AI Programmer', 'AI Research Engineer',\n",
       "       'AI Scientist', 'AWS Data Architect', 'Admin & Data Analyst',\n",
       "       'Analytics Engineer', 'Analytics Engineering Manager',\n",
       "       'Applied Data Scientist', 'Applied Machine Learning Engineer',\n",
       "       'Applied Machine Learning Scientist', 'Applied Scientist',\n",
       "       'Autonomous Vehicle Technician', 'Azure Data Engineer',\n",
       "       'BI Analyst', 'BI Data Analyst', 'BI Data Engineer',\n",
       "       'BI Developer', 'Big Data Architect', 'Big Data Engineer',\n",
       "       'Business Data Analyst', 'Business Intelligence',\n",
       "       'Business Intelligence Analyst',\n",
       "       'Business Intelligence Data Analyst',\n",
       "       'Business Intelligence Developer',\n",
       "       'Business Intelligence Engineer', 'Business Intelligence Lead',\n",
       "       'Business Intelligence Manager',\n",
       "       'Business Intelligence Specialist', 'Cloud Data Architect',\n",
       "       'Cloud Data Engineer', 'Cloud Database Engineer',\n",
       "       'Compliance Data Analyst', 'Computer Vision Engineer',\n",
       "       'Computer Vision Software Engineer', 'Consultant Data Engineer',\n",
       "       'Data Analyst', 'Data Analyst Lead', 'Data Analytics Consultant',\n",
       "       'Data Analytics Engineer', 'Data Analytics Lead',\n",
       "       'Data Analytics Manager', 'Data Analytics Specialist',\n",
       "       'Data Architect', 'Data DevOps Engineer', 'Data Developer',\n",
       "       'Data Engineer', 'Data Infrastructure Engineer',\n",
       "       'Data Integration Developer', 'Data Integration Engineer',\n",
       "       'Data Integration Specialist', 'Data Lead',\n",
       "       'Data Management Analyst', 'Data Management Specialist',\n",
       "       'Data Manager', 'Data Modeler', 'Data Modeller',\n",
       "       'Data Operations Analyst', 'Data Operations Associate',\n",
       "       'Data Operations Engineer', 'Data Operations Manager',\n",
       "       'Data Operations Specialist', 'Data Pipeline Engineer',\n",
       "       'Data Product Manager', 'Data Product Owner',\n",
       "       'Data Quality Analyst', 'Data Quality Engineer',\n",
       "       'Data Quality Manager', 'Data Science', 'Data Science Consultant',\n",
       "       'Data Science Director', 'Data Science Engineer',\n",
       "       'Data Science Lead', 'Data Science Manager',\n",
       "       'Data Science Practitioner', 'Data Science Tech Lead',\n",
       "       'Data Scientist', 'Data Scientist Lead', 'Data Specialist',\n",
       "       'Data Strategist', 'Data Strategy Manager',\n",
       "       'Data Visualization Analyst', 'Data Visualization Engineer',\n",
       "       'Data Visualization Specialist', 'Decision Scientist',\n",
       "       'Deep Learning Engineer', 'Deep Learning Researcher',\n",
       "       'Director of Data Science', 'ETL Developer', 'ETL Engineer',\n",
       "       'Finance Data Analyst', 'Financial Data Analyst', 'Head of Data',\n",
       "       'Head of Data Science', 'Head of Machine Learning',\n",
       "       'Insight Analyst', 'Lead Data Analyst', 'Lead Data Engineer',\n",
       "       'Lead Data Scientist', 'Lead Machine Learning Engineer',\n",
       "       'ML Engineer', 'ML Ops Engineer', 'MLOps Engineer',\n",
       "       'Machine Learning Developer', 'Machine Learning Engineer',\n",
       "       'Machine Learning Infrastructure Engineer',\n",
       "       'Machine Learning Manager', 'Machine Learning Modeler',\n",
       "       'Machine Learning Operations Engineer',\n",
       "       'Machine Learning Research Engineer',\n",
       "       'Machine Learning Researcher', 'Machine Learning Scientist',\n",
       "       'Machine Learning Software Engineer',\n",
       "       'Machine Learning Specialist', 'Manager Data Management',\n",
       "       'Managing Director Data Science', 'Marketing Data Analyst',\n",
       "       'Marketing Data Engineer', 'Marketing Data Scientist',\n",
       "       'NLP Engineer', 'Power BI Developer', 'Principal Data Analyst',\n",
       "       'Principal Data Architect', 'Principal Data Engineer',\n",
       "       'Principal Data Scientist', 'Principal Machine Learning Engineer',\n",
       "       'Product Data Analyst', 'Prompt Engineer', 'Research Analyst',\n",
       "       'Research Engineer', 'Research Scientist', 'Robotics Engineer',\n",
       "       'Robotics Software Engineer', 'Sales Data Analyst',\n",
       "       'Software Data Engineer', 'Staff Data Analyst',\n",
       "       'Staff Data Scientist', 'Staff Machine Learning Engineer'],\n",
       "      dtype=object)"
      ]
     },
     "execution_count": 4,
     "metadata": {},
     "output_type": "execute_result"
    }
   ],
   "source": [
    "np.sort(df['job_title'].unique())"
   ]
  },
  {
   "cell_type": "raw",
   "id": "b55a7b0a",
   "metadata": {},
   "source": [
    "# Created a dictionary to consolidate similar job titles. Will evaluate if this is beneficial or not, refine further if needed \n",
    "# or explore another strategy e.g. identifying relevant keywords\n",
    "job_title_dict = {'Business Intelligence Analyst' : ['BI Analyst', 'BI Data Analyst','Business Data Analyst',\n",
    "                                                     'Business Intelligence Analyst','Business Intelligence Data Analyst'],\n",
    "                  'Business Intelligence Developer' : ['Business Intelligence Developer','BI Developer'],\n",
    "                  'Computer Vision Software Engineer' : ['Computer Vision Software Engineer','Computer Vision Engineer'],\n",
    "                  'Lead Data Analyst' : ['Data Analytics Lead', 'Data Analyst Lead','Lead Data Analyst'],\n",
    "                  'Machine Learning Operations Engineer': ['Machine Learning Operations Engineer','MLOps Engineer'],\n",
    "                  'Data Analyst': ['Product Data Analyst','Sales Data Analyst','Marketing Data Analyst','Data Analytics Consultant',\n",
    "                                  'Finance Data Analyst', 'Financial Data Analyst','Research Analyst','Insight Analyst','Compliance Data Analyst','Data Science'],\n",
    "                  'Lead Data Analyst' : ['Lead Data Analyst','Data Analyst Lead'],\n",
    "                  'Lead Data Scientist' : ['Lead Data Scientist','Data Science Lead'],\n",
    "                  'Data Scientist' : ['Data Scientist','Data Science Practitioner','Marketing Data Scientist','Applied Data Scientist','Data Science Consultant'],\n",
    "                  'Data Modeller': ['Data Modeler','Data Modeller'],\n",
    "                  'Machine Learning Engineer': ['ML Engineer','Machine Learning Engineer','Machine Learning Software Engineer','Marketing Data Engineer'],\n",
    "                  'Data Engineer' : ['Azure Data Engineer','BI Data Engineer','Big Data Engineer','Data Engineer','Data Science Engineer',\n",
    "                                     'Data Analytics Engineer''Cloud Data Engineer','Cloud Database Engineer'],\n",
    "                  'Business Intelligence Developer' : ['Business Intelligence Developer', 'BI Developer'],\n",
    "                  'Data Architect': ['Data Architect','Cloud Data Architect','Big Data Architect','AWS Data Architect']\n",
    "}\n",
    "\n",
    "titles_map = {'original_title':[], 'consolidated_title':[]}\n",
    "for key in job_title_dict.keys():\n",
    "    for job_title in job_title_dict[key]:\n",
    "        titles_map['original_title'].append(job_title)\n",
    "        titles_map['consolidated_title'].append(key)"
   ]
  },
  {
   "cell_type": "raw",
   "id": "c32386d9-f19b-474b-8d18-b27d7a4a5e3c",
   "metadata": {},
   "source": [
    "df_mapped = df[['job_title']].merge(pd.DataFrame(titles_map), how='left',left_on='job_title',right_on='original_title')\n",
    "df_mapped['consolidated_title'] = df_mapped['consolidated_title'].fillna(df_mapped['job_title'])\n",
    "df['consolidated_title'] = df_mapped['consolidated_title']\n",
    "df"
   ]
  },
  {
   "cell_type": "markdown",
   "id": "ce4e95f5",
   "metadata": {},
   "source": [
    "The issue here is how subjective the consolidation is due to my own lack of domain knowledge. As there are few words, I will instead split each title into individual words and encode them for Machine Learning during that stage"
   ]
  },
  {
   "cell_type": "markdown",
   "id": "752e3f05-4344-4b14-8c64-5c3d99e4ee96",
   "metadata": {},
   "source": [
    "### Extracting full list of titles from html code on source website\n",
    "Rather than simply grabbing the list of job titles in the dataset, I can grab the full list of possible titles from the data source (https://ai-jobs.net/) since the data is entered using a drop down menu with a limited number of options.\n",
    "\n",
    "For this, I downloaded the chunk of html code for the drop down with the list of available jobs and will clean that to make a full list of job titles. Since I have the full list of possible options, and it should not change, there would not be a scenario where a word in the test set would not have a column to account for it."
   ]
  },
  {
   "cell_type": "code",
   "execution_count": 5,
   "id": "9cee3678",
   "metadata": {},
   "outputs": [
    {
     "name": "stdout",
     "output_type": "stream",
     "text": [
      "Sample of raw job titles from the html code:\n",
      "\n",
      "['Admin &amp; Data Analyst', 'AI Architect', 'AI Developer', 'AI Engineer', 'AI Product Manager', 'AI Programmer', 'AI Research Engineer', 'AI Research Scientist', 'AI Scientist', 'Analytics Engineer']\n",
      "Number of job titles: 219\n"
     ]
    }
   ],
   "source": [
    "with open('Job_title_span_html.txt') as file:\n",
    "    job_html = file.read()\n",
    "\n",
    "raw_list = job_html.replace('<','>').split('>')\n",
    "raw_list = raw_list[14:-1:4]\n",
    "print('Sample of raw job titles from the html code:\\n')\n",
    "print(raw_list[:10])\n",
    "print('Number of job titles: {}'.format(len(raw_list)))"
   ]
  },
  {
   "cell_type": "code",
   "execution_count": 6,
   "id": "321dd5a4-aa6d-4f15-b60e-2949c8fc2533",
   "metadata": {},
   "outputs": [
    {
     "name": "stdout",
     "output_type": "stream",
     "text": [
      "Sample of tidy job titles from the html code:\n",
      "\n",
      "['Admin Data Analytics', 'AI Architect', 'AI Developer', 'AI Engineer', 'AI Product Manager', 'AI Programmer', 'AI Research Engineer', 'AI Research Science', 'AI Science', 'Analytics Engineer']\n",
      "Number of job titles: 219\n"
     ]
    }
   ],
   "source": [
    "# Adding in all the acronyms already present in the dataset and duplicated text from spelling variations and fillers. \n",
    "# Removing 1 from Data Scientist 1 as it is simply a data scientist position \n",
    "# Consolidated Engineering/Engineer, Scientist, Science, Analytics/Analyst etc. Full list in the replacements dictionary.\n",
    "replacements = [('&amp; ',''), #html formatting\n",
    "                (' 1',''),\n",
    "                (' of',''),\n",
    "                (' in',''),\n",
    "                ('and',''),\n",
    "                ('Business Intelligence','BI'),\n",
    "                ('Modeler','Modeller'),\n",
    "                ('Data Operations','DataOps'),\n",
    "                ('Machine Learning Operations','MLOps'),\n",
    "                ('Machine Learning','ML'),\n",
    "                ('Engineering','Engineer'), # this order matters to avoid creating the word engineeringing\n",
    "                ('Scientist','Science'),\n",
    "                ('Analyst','Analytics'),\n",
    "                ('Researcher','Research'),\n",
    "                ('Strategist','Strategy'),\n",
    "                ('data operator','Data Operator'),\n",
    "                ('Solutions','Solution'),\n",
    "                ('Financial','Finance')\n",
    "               ]\n",
    "#  Not combining Manager and Management because they are used in different contexts\n",
    "titles_tidy = []\n",
    "for title in raw_list:\n",
    "    for old,new in replacements:\n",
    "        title = title.replace(old,new)\n",
    "    titles_tidy.append(title)\n",
    "\n",
    "print('Sample of tidy job titles from the html code:\\n')\n",
    "print(titles_tidy[:10])\n",
    "print('Number of job titles: {}'.format(len(raw_list)))\n",
    "\n",
    "    \n",
    "with open('replacements.pkl', 'wb') as file:\n",
    "    pickle.dump(replacements,file)"
   ]
  },
  {
   "cell_type": "code",
   "execution_count": 7,
   "id": "ce8b66b9-5792-4aa8-a075-69323d3a323f",
   "metadata": {
    "scrolled": true,
    "tags": []
   },
   "outputs": [
    {
     "name": "stdout",
     "output_type": "stream",
     "text": [
      "Vocabulary of possible words in consolidated job title column (107 words)\n",
      "\n",
      "['AI', 'AWS', 'Admin', 'Analytics', 'Applied', 'Architect', 'Associate', 'Autonomous', 'Azure', 'BI', 'Bear', 'Big', 'Business', 'CRM', 'Chain', 'Clinical', 'Cloud', 'Commercial', 'Compliance', 'Computer', 'Consultant', 'Customer', 'Data', 'DataOps', 'Database', 'Decision', 'Deep', 'DevOps', 'Developer', 'Digital', 'Director', 'ETL', 'Engineer', 'Enterprise', 'Entry', 'Executive', 'Expert', 'Finance', 'Fraud', 'Game', 'Generative', 'Geophysicist', 'Google', 'Graduate', 'Growth', 'HR', 'Head', 'Healthcare', 'IQ', 'IT', 'Imaging', 'Infrastructure', 'Insight', 'Integration', 'Intern', 'Lead', 'Learning', 'Level', 'Logistics', 'ML', 'MLOps', 'Machine', 'Management', 'Manager', 'Managing', 'Marketing', 'Master', 'Modeller', 'NLP', 'Operations', 'Operator', 'Owner', 'People', 'Phd', 'Pipeline', 'Portfolio', 'Power', 'Practitioner', 'Pricing', 'Principal', 'Process', 'Procurement', 'Product', 'Programmer', 'Prompt', 'Python', 'Quality', 'Quantitative', 'Reference', 'Research', 'Robotics', 'Sales', 'Science', 'Software', 'Solution', 'Specialist', 'Sport', 'Staff', 'Strategy', 'Supply', 'Tableau', 'Team', 'Tech', 'Technician', 'Vehicle', 'Vision', 'Visualization']\n"
     ]
    }
   ],
   "source": [
    "complete_title_words = []\n",
    "for title in titles_tidy:\n",
    "    complete_title_words = complete_title_words + title.split()\n",
    "    \n",
    "complete_title_words = list(set(complete_title_words))\n",
    "complete_title_words.sort()\n",
    "\n",
    "print('Vocabulary of possible words in consolidated job title column ({} words)\\n'.format(len(complete_title_words)))\n",
    "print(complete_title_words)"
   ]
  },
  {
   "cell_type": "markdown",
   "id": "60f60bb3",
   "metadata": {},
   "source": [
    "This list `complete_title_words` can be saved for later as `vocabulary.json` when using count vectorizer as the vocabulary argument."
   ]
  },
  {
   "cell_type": "code",
   "execution_count": 8,
   "id": "f83dd8ae",
   "metadata": {},
   "outputs": [],
   "source": [
    "with open(\"vocabulary.json\", 'w') as file:\n",
    "    json.dump(complete_title_words, file) "
   ]
  },
  {
   "cell_type": "markdown",
   "id": "1808e80b",
   "metadata": {},
   "source": [
    "### Creating consolidated titles column"
   ]
  },
  {
   "cell_type": "code",
   "execution_count": 9,
   "id": "1922c49a",
   "metadata": {},
   "outputs": [
    {
     "data": {
      "text/html": [
       "<div>\n",
       "<style scoped>\n",
       "    .dataframe tbody tr th:only-of-type {\n",
       "        vertical-align: middle;\n",
       "    }\n",
       "\n",
       "    .dataframe tbody tr th {\n",
       "        vertical-align: top;\n",
       "    }\n",
       "\n",
       "    .dataframe thead th {\n",
       "        text-align: right;\n",
       "    }\n",
       "</style>\n",
       "<table border=\"1\" class=\"dataframe\">\n",
       "  <thead>\n",
       "    <tr style=\"text-align: right;\">\n",
       "      <th></th>\n",
       "      <th>work_year</th>\n",
       "      <th>experience_level</th>\n",
       "      <th>employment_type</th>\n",
       "      <th>job_title</th>\n",
       "      <th>salary_in_usd</th>\n",
       "      <th>employee_residence</th>\n",
       "      <th>remote_ratio</th>\n",
       "      <th>company_location</th>\n",
       "      <th>company_size</th>\n",
       "      <th>job_title_clean</th>\n",
       "    </tr>\n",
       "  </thead>\n",
       "  <tbody>\n",
       "    <tr>\n",
       "      <th>0</th>\n",
       "      <td>2024</td>\n",
       "      <td>SE</td>\n",
       "      <td>FT</td>\n",
       "      <td>Data Architect</td>\n",
       "      <td>363000</td>\n",
       "      <td>US</td>\n",
       "      <td>0</td>\n",
       "      <td>US</td>\n",
       "      <td>M</td>\n",
       "      <td>Data Architect</td>\n",
       "    </tr>\n",
       "    <tr>\n",
       "      <th>1</th>\n",
       "      <td>2024</td>\n",
       "      <td>SE</td>\n",
       "      <td>FT</td>\n",
       "      <td>Data Architect</td>\n",
       "      <td>139800</td>\n",
       "      <td>US</td>\n",
       "      <td>0</td>\n",
       "      <td>US</td>\n",
       "      <td>M</td>\n",
       "      <td>Data Architect</td>\n",
       "    </tr>\n",
       "    <tr>\n",
       "      <th>2</th>\n",
       "      <td>2024</td>\n",
       "      <td>MI</td>\n",
       "      <td>FT</td>\n",
       "      <td>Data Scientist</td>\n",
       "      <td>109000</td>\n",
       "      <td>US</td>\n",
       "      <td>100</td>\n",
       "      <td>US</td>\n",
       "      <td>M</td>\n",
       "      <td>Data Science</td>\n",
       "    </tr>\n",
       "    <tr>\n",
       "      <th>3</th>\n",
       "      <td>2024</td>\n",
       "      <td>MI</td>\n",
       "      <td>FT</td>\n",
       "      <td>Data Scientist</td>\n",
       "      <td>93000</td>\n",
       "      <td>US</td>\n",
       "      <td>100</td>\n",
       "      <td>US</td>\n",
       "      <td>M</td>\n",
       "      <td>Data Science</td>\n",
       "    </tr>\n",
       "    <tr>\n",
       "      <th>4</th>\n",
       "      <td>2024</td>\n",
       "      <td>MI</td>\n",
       "      <td>FT</td>\n",
       "      <td>Research Engineer</td>\n",
       "      <td>38888</td>\n",
       "      <td>PT</td>\n",
       "      <td>0</td>\n",
       "      <td>PT</td>\n",
       "      <td>M</td>\n",
       "      <td>Research Engineer</td>\n",
       "    </tr>\n",
       "  </tbody>\n",
       "</table>\n",
       "</div>"
      ],
      "text/plain": [
       "   work_year experience_level employment_type          job_title  \\\n",
       "0       2024               SE              FT     Data Architect   \n",
       "1       2024               SE              FT     Data Architect   \n",
       "2       2024               MI              FT     Data Scientist   \n",
       "3       2024               MI              FT     Data Scientist   \n",
       "4       2024               MI              FT  Research Engineer   \n",
       "\n",
       "   salary_in_usd employee_residence  remote_ratio company_location  \\\n",
       "0         363000                 US             0               US   \n",
       "1         139800                 US             0               US   \n",
       "2         109000                 US           100               US   \n",
       "3          93000                 US           100               US   \n",
       "4          38888                 PT             0               PT   \n",
       "\n",
       "  company_size    job_title_clean  \n",
       "0            M     Data Architect  \n",
       "1            M     Data Architect  \n",
       "2            M       Data Science  \n",
       "3            M       Data Science  \n",
       "4            M  Research Engineer  "
      ]
     },
     "execution_count": 9,
     "metadata": {},
     "output_type": "execute_result"
    }
   ],
   "source": [
    "def job_clean(df_column):\n",
    "    new_title_list = []\n",
    "    for item in df_column:\n",
    "        for old,new in replacements:\n",
    "            item = item.replace(old,new)\n",
    "        new_title_list.append(item)\n",
    "    return new_title_list\n",
    "\n",
    "df['job_title_clean'] = job_clean(df['job_title'])\n",
    "df.head()"
   ]
  },
  {
   "cell_type": "code",
   "execution_count": 10,
   "id": "628611fc",
   "metadata": {},
   "outputs": [
    {
     "name": "stdout",
     "output_type": "stream",
     "text": [
      "Number of unique titles in:\n",
      " original column: 141 \n",
      " new column 131\n"
     ]
    }
   ],
   "source": [
    "print('Number of unique titles in:\\n original column: {old} \\n new column {new}'.format(\n",
    "    old=len(df['job_title'].unique()),new=len(df['job_title_clean'].unique())))"
   ]
  },
  {
   "cell_type": "markdown",
   "id": "38fe49aa",
   "metadata": {},
   "source": [
    "While this step is not necessarily decreasing the number of unique job titles by a large amount, this will aid in analysis and ML and reduce the number of columns when using the count_vectorizer encoder"
   ]
  },
  {
   "cell_type": "markdown",
   "id": "4ace7d85",
   "metadata": {},
   "source": [
    "### New feature creation\n",
    "Creating a new field `outsourced` which is a True/False value of whether the employee is based in the same country as the company"
   ]
  },
  {
   "cell_type": "code",
   "execution_count": 11,
   "id": "d843d8f7",
   "metadata": {},
   "outputs": [
    {
     "data": {
      "text/html": [
       "<div>\n",
       "<style scoped>\n",
       "    .dataframe tbody tr th:only-of-type {\n",
       "        vertical-align: middle;\n",
       "    }\n",
       "\n",
       "    .dataframe tbody tr th {\n",
       "        vertical-align: top;\n",
       "    }\n",
       "\n",
       "    .dataframe thead th {\n",
       "        text-align: right;\n",
       "    }\n",
       "</style>\n",
       "<table border=\"1\" class=\"dataframe\">\n",
       "  <thead>\n",
       "    <tr style=\"text-align: right;\">\n",
       "      <th></th>\n",
       "      <th>work_year</th>\n",
       "      <th>experience_level</th>\n",
       "      <th>employment_type</th>\n",
       "      <th>job_title</th>\n",
       "      <th>salary_in_usd</th>\n",
       "      <th>employee_residence</th>\n",
       "      <th>remote_ratio</th>\n",
       "      <th>company_location</th>\n",
       "      <th>company_size</th>\n",
       "      <th>job_title_clean</th>\n",
       "      <th>outsourced</th>\n",
       "    </tr>\n",
       "  </thead>\n",
       "  <tbody>\n",
       "    <tr>\n",
       "      <th>0</th>\n",
       "      <td>2024</td>\n",
       "      <td>SE</td>\n",
       "      <td>FT</td>\n",
       "      <td>Data Architect</td>\n",
       "      <td>363000</td>\n",
       "      <td>US</td>\n",
       "      <td>0</td>\n",
       "      <td>US</td>\n",
       "      <td>M</td>\n",
       "      <td>Data Architect</td>\n",
       "      <td>False</td>\n",
       "    </tr>\n",
       "    <tr>\n",
       "      <th>1</th>\n",
       "      <td>2024</td>\n",
       "      <td>SE</td>\n",
       "      <td>FT</td>\n",
       "      <td>Data Architect</td>\n",
       "      <td>139800</td>\n",
       "      <td>US</td>\n",
       "      <td>0</td>\n",
       "      <td>US</td>\n",
       "      <td>M</td>\n",
       "      <td>Data Architect</td>\n",
       "      <td>False</td>\n",
       "    </tr>\n",
       "    <tr>\n",
       "      <th>2</th>\n",
       "      <td>2024</td>\n",
       "      <td>MI</td>\n",
       "      <td>FT</td>\n",
       "      <td>Data Scientist</td>\n",
       "      <td>109000</td>\n",
       "      <td>US</td>\n",
       "      <td>100</td>\n",
       "      <td>US</td>\n",
       "      <td>M</td>\n",
       "      <td>Data Science</td>\n",
       "      <td>False</td>\n",
       "    </tr>\n",
       "    <tr>\n",
       "      <th>3</th>\n",
       "      <td>2024</td>\n",
       "      <td>MI</td>\n",
       "      <td>FT</td>\n",
       "      <td>Data Scientist</td>\n",
       "      <td>93000</td>\n",
       "      <td>US</td>\n",
       "      <td>100</td>\n",
       "      <td>US</td>\n",
       "      <td>M</td>\n",
       "      <td>Data Science</td>\n",
       "      <td>False</td>\n",
       "    </tr>\n",
       "    <tr>\n",
       "      <th>4</th>\n",
       "      <td>2024</td>\n",
       "      <td>MI</td>\n",
       "      <td>FT</td>\n",
       "      <td>Research Engineer</td>\n",
       "      <td>38888</td>\n",
       "      <td>PT</td>\n",
       "      <td>0</td>\n",
       "      <td>PT</td>\n",
       "      <td>M</td>\n",
       "      <td>Research Engineer</td>\n",
       "      <td>False</td>\n",
       "    </tr>\n",
       "  </tbody>\n",
       "</table>\n",
       "</div>"
      ],
      "text/plain": [
       "   work_year experience_level employment_type          job_title  \\\n",
       "0       2024               SE              FT     Data Architect   \n",
       "1       2024               SE              FT     Data Architect   \n",
       "2       2024               MI              FT     Data Scientist   \n",
       "3       2024               MI              FT     Data Scientist   \n",
       "4       2024               MI              FT  Research Engineer   \n",
       "\n",
       "   salary_in_usd employee_residence  remote_ratio company_location  \\\n",
       "0         363000                 US             0               US   \n",
       "1         139800                 US             0               US   \n",
       "2         109000                 US           100               US   \n",
       "3          93000                 US           100               US   \n",
       "4          38888                 PT             0               PT   \n",
       "\n",
       "  company_size    job_title_clean  outsourced  \n",
       "0            M     Data Architect       False  \n",
       "1            M     Data Architect       False  \n",
       "2            M       Data Science       False  \n",
       "3            M       Data Science       False  \n",
       "4            M  Research Engineer       False  "
      ]
     },
     "execution_count": 11,
     "metadata": {},
     "output_type": "execute_result"
    }
   ],
   "source": [
    "df['outsourced'] = df['employee_residence'] != df['company_location']\n",
    "df.head()"
   ]
  },
  {
   "cell_type": "markdown",
   "id": "5947565d-8b41-4b13-96b3-22c781e8187d",
   "metadata": {},
   "source": [
    "## Data Visualization"
   ]
  },
  {
   "cell_type": "markdown",
   "id": "5445d0b1-4b00-4fcf-92ca-def62b265803",
   "metadata": {},
   "source": [
    "### Job title"
   ]
  },
  {
   "cell_type": "code",
   "execution_count": 12,
   "id": "d0d017fe-a0f7-4c64-86ce-da9d9d160d1b",
   "metadata": {},
   "outputs": [
    {
     "data": {
      "image/png": "[encoded data removed]",
      "text/plain": [
       "<Figure size 640x480 with 1 Axes>"
      ]
     },
     "metadata": {},
     "output_type": "display_data"
    }
   ],
   "source": [
    "salary_by_title = df[['job_title','salary_in_usd']].groupby('job_title').agg(['mean','count']).sort_values(by=('salary_in_usd','mean'),ascending=False).reset_index()\n",
    "\n",
    "sns.barplot(data = salary_by_title.head(10), x=('salary_in_usd','mean'), y='job_title')\n",
    "plt.title('Top 10 Jobs with the Highest Average Salary')\n",
    "plt.xlabel('salary_in_usd')\n",
    "plt.show()"
   ]
  },
  {
   "cell_type": "code",
   "execution_count": 13,
   "id": "3fdd27b4-705c-478a-93b5-c2098e5df7cc",
   "metadata": {},
   "outputs": [
    {
     "data": {
      "text/html": [
       "<div>\n",
       "<style scoped>\n",
       "    .dataframe tbody tr th:only-of-type {\n",
       "        vertical-align: middle;\n",
       "    }\n",
       "\n",
       "    .dataframe tbody tr th {\n",
       "        vertical-align: top;\n",
       "    }\n",
       "\n",
       "    .dataframe thead tr th {\n",
       "        text-align: left;\n",
       "    }\n",
       "</style>\n",
       "<table border=\"1\" class=\"dataframe\">\n",
       "  <thead>\n",
       "    <tr>\n",
       "      <th></th>\n",
       "      <th>job_title</th>\n",
       "      <th colspan=\"2\" halign=\"left\">salary_in_usd</th>\n",
       "    </tr>\n",
       "    <tr>\n",
       "      <th></th>\n",
       "      <th></th>\n",
       "      <th>mean</th>\n",
       "      <th>count</th>\n",
       "    </tr>\n",
       "  </thead>\n",
       "  <tbody>\n",
       "    <tr>\n",
       "      <th>0</th>\n",
       "      <td>Analytics Engineering Manager</td>\n",
       "      <td>399880.000000</td>\n",
       "      <td>1</td>\n",
       "    </tr>\n",
       "    <tr>\n",
       "      <th>1</th>\n",
       "      <td>Data Science Tech Lead</td>\n",
       "      <td>375000.000000</td>\n",
       "      <td>1</td>\n",
       "    </tr>\n",
       "    <tr>\n",
       "      <th>2</th>\n",
       "      <td>Head of Machine Learning</td>\n",
       "      <td>299758.428571</td>\n",
       "      <td>7</td>\n",
       "    </tr>\n",
       "    <tr>\n",
       "      <th>3</th>\n",
       "      <td>Managing Director Data Science</td>\n",
       "      <td>280000.000000</td>\n",
       "      <td>2</td>\n",
       "    </tr>\n",
       "    <tr>\n",
       "      <th>4</th>\n",
       "      <td>AWS Data Architect</td>\n",
       "      <td>258000.000000</td>\n",
       "      <td>1</td>\n",
       "    </tr>\n",
       "    <tr>\n",
       "      <th>5</th>\n",
       "      <td>Cloud Data Architect</td>\n",
       "      <td>250000.000000</td>\n",
       "      <td>1</td>\n",
       "    </tr>\n",
       "    <tr>\n",
       "      <th>6</th>\n",
       "      <td>AI Architect</td>\n",
       "      <td>216827.571429</td>\n",
       "      <td>14</td>\n",
       "    </tr>\n",
       "    <tr>\n",
       "      <th>7</th>\n",
       "      <td>Director of Data Science</td>\n",
       "      <td>213454.387097</td>\n",
       "      <td>31</td>\n",
       "    </tr>\n",
       "    <tr>\n",
       "      <th>8</th>\n",
       "      <td>Robotics Software Engineer</td>\n",
       "      <td>203750.000000</td>\n",
       "      <td>4</td>\n",
       "    </tr>\n",
       "    <tr>\n",
       "      <th>9</th>\n",
       "      <td>Head of Data</td>\n",
       "      <td>202066.736842</td>\n",
       "      <td>38</td>\n",
       "    </tr>\n",
       "  </tbody>\n",
       "</table>\n",
       "</div>"
      ],
      "text/plain": [
       "                        job_title  salary_in_usd      \n",
       "                                            mean count\n",
       "0   Analytics Engineering Manager  399880.000000     1\n",
       "1          Data Science Tech Lead  375000.000000     1\n",
       "2        Head of Machine Learning  299758.428571     7\n",
       "3  Managing Director Data Science  280000.000000     2\n",
       "4              AWS Data Architect  258000.000000     1\n",
       "5            Cloud Data Architect  250000.000000     1\n",
       "6                    AI Architect  216827.571429    14\n",
       "7        Director of Data Science  213454.387097    31\n",
       "8      Robotics Software Engineer  203750.000000     4\n",
       "9                    Head of Data  202066.736842    38"
      ]
     },
     "execution_count": 13,
     "metadata": {},
     "output_type": "execute_result"
    }
   ],
   "source": [
    "salary_by_title.head(10)"
   ]
  },
  {
   "cell_type": "markdown",
   "id": "3f17d70a-38d3-4651-97f6-879937ab30ba",
   "metadata": {},
   "source": [
    "The top 10 salaried positions are full of Lead, Manager and Director positions however it is notable that at the top end, the 'mean' salary is often a singular data point so how representative these numbers are is not reliable. Hence why I am going to split the titles and use a bag of words model rather the titles as individual categories."
   ]
  },
  {
   "cell_type": "code",
   "execution_count": 14,
   "id": "15f339ec-7aa0-4689-9d95-1a882c7ff871",
   "metadata": {},
   "outputs": [
    {
     "data": {
      "image/png": "[encoded data removed]",
      "text/plain": [
       "<Figure size 640x480 with 1 Axes>"
      ]
     },
     "metadata": {},
     "output_type": "display_data"
    }
   ],
   "source": [
    "sns.barplot(data = salary_by_title.tail(10), x=('salary_in_usd','mean'), y='job_title')\n",
    "plt.title('Top 10 Jobs with the Lowest Average Salary')\n",
    "plt.xlabel('salary_in_usd')\n",
    "plt.show()"
   ]
  },
  {
   "cell_type": "code",
   "execution_count": 15,
   "id": "594bad5b-cc6f-482d-b2ee-11cc59e0cb14",
   "metadata": {},
   "outputs": [
    {
     "data": {
      "text/html": [
       "<div>\n",
       "<style scoped>\n",
       "    .dataframe tbody tr th:only-of-type {\n",
       "        vertical-align: middle;\n",
       "    }\n",
       "\n",
       "    .dataframe tbody tr th {\n",
       "        vertical-align: top;\n",
       "    }\n",
       "\n",
       "    .dataframe thead tr th {\n",
       "        text-align: left;\n",
       "    }\n",
       "</style>\n",
       "<table border=\"1\" class=\"dataframe\">\n",
       "  <thead>\n",
       "    <tr>\n",
       "      <th></th>\n",
       "      <th>job_title</th>\n",
       "      <th colspan=\"2\" halign=\"left\">salary_in_usd</th>\n",
       "    </tr>\n",
       "    <tr>\n",
       "      <th></th>\n",
       "      <th></th>\n",
       "      <th>mean</th>\n",
       "      <th>count</th>\n",
       "    </tr>\n",
       "  </thead>\n",
       "  <tbody>\n",
       "    <tr>\n",
       "      <th>131</th>\n",
       "      <td>AI Programmer</td>\n",
       "      <td>62042.000000</td>\n",
       "      <td>7</td>\n",
       "    </tr>\n",
       "    <tr>\n",
       "      <th>132</th>\n",
       "      <td>Data Operations Associate</td>\n",
       "      <td>61399.000000</td>\n",
       "      <td>4</td>\n",
       "    </tr>\n",
       "    <tr>\n",
       "      <th>133</th>\n",
       "      <td>Sales Data Analyst</td>\n",
       "      <td>60000.000000</td>\n",
       "      <td>1</td>\n",
       "    </tr>\n",
       "    <tr>\n",
       "      <th>134</th>\n",
       "      <td>BI Data Engineer</td>\n",
       "      <td>60000.000000</td>\n",
       "      <td>1</td>\n",
       "    </tr>\n",
       "    <tr>\n",
       "      <th>135</th>\n",
       "      <td>Data Quality Manager</td>\n",
       "      <td>59059.000000</td>\n",
       "      <td>2</td>\n",
       "    </tr>\n",
       "    <tr>\n",
       "      <th>136</th>\n",
       "      <td>Machine Learning Specialist</td>\n",
       "      <td>55000.000000</td>\n",
       "      <td>2</td>\n",
       "    </tr>\n",
       "    <tr>\n",
       "      <th>137</th>\n",
       "      <td>Admin &amp; Data Analyst</td>\n",
       "      <td>50740.666667</td>\n",
       "      <td>3</td>\n",
       "    </tr>\n",
       "    <tr>\n",
       "      <th>138</th>\n",
       "      <td>Insight Analyst</td>\n",
       "      <td>46339.833333</td>\n",
       "      <td>6</td>\n",
       "    </tr>\n",
       "    <tr>\n",
       "      <th>139</th>\n",
       "      <td>Compliance Data Analyst</td>\n",
       "      <td>45000.000000</td>\n",
       "      <td>2</td>\n",
       "    </tr>\n",
       "    <tr>\n",
       "      <th>140</th>\n",
       "      <td>Principal Data Architect</td>\n",
       "      <td>38154.000000</td>\n",
       "      <td>1</td>\n",
       "    </tr>\n",
       "  </tbody>\n",
       "</table>\n",
       "</div>"
      ],
      "text/plain": [
       "                       job_title salary_in_usd      \n",
       "                                          mean count\n",
       "131                AI Programmer  62042.000000     7\n",
       "132    Data Operations Associate  61399.000000     4\n",
       "133           Sales Data Analyst  60000.000000     1\n",
       "134             BI Data Engineer  60000.000000     1\n",
       "135         Data Quality Manager  59059.000000     2\n",
       "136  Machine Learning Specialist  55000.000000     2\n",
       "137         Admin & Data Analyst  50740.666667     3\n",
       "138              Insight Analyst  46339.833333     6\n",
       "139      Compliance Data Analyst  45000.000000     2\n",
       "140     Principal Data Architect  38154.000000     1"
      ]
     },
     "execution_count": 15,
     "metadata": {},
     "output_type": "execute_result"
    }
   ],
   "source": [
    "salary_by_title.tail(10)"
   ]
  },
  {
   "cell_type": "markdown",
   "id": "47cb37c8-1336-48e5-b73b-cd0464db36ec",
   "metadata": {},
   "source": [
    "At the bottom of the salary list, there also the issue of limited data so the average salaries may be only a single reported value. In this case also, the salary in USD may be much lower than expected based on the company or employee country. Of note is the lowest salary position 18,000 USD for a Principal Data Architect position seems low."
   ]
  },
  {
   "cell_type": "code",
   "execution_count": 16,
   "id": "78f7126f",
   "metadata": {},
   "outputs": [
    {
     "data": {
      "text/html": [
       "<div>\n",
       "<style scoped>\n",
       "    .dataframe tbody tr th:only-of-type {\n",
       "        vertical-align: middle;\n",
       "    }\n",
       "\n",
       "    .dataframe tbody tr th {\n",
       "        vertical-align: top;\n",
       "    }\n",
       "\n",
       "    .dataframe thead th {\n",
       "        text-align: right;\n",
       "    }\n",
       "</style>\n",
       "<table border=\"1\" class=\"dataframe\">\n",
       "  <thead>\n",
       "    <tr style=\"text-align: right;\">\n",
       "      <th></th>\n",
       "      <th>work_year</th>\n",
       "      <th>experience_level</th>\n",
       "      <th>employment_type</th>\n",
       "      <th>job_title</th>\n",
       "      <th>salary_in_usd</th>\n",
       "      <th>employee_residence</th>\n",
       "      <th>remote_ratio</th>\n",
       "      <th>company_location</th>\n",
       "      <th>company_size</th>\n",
       "      <th>job_title_clean</th>\n",
       "      <th>outsourced</th>\n",
       "    </tr>\n",
       "  </thead>\n",
       "  <tbody>\n",
       "    <tr>\n",
       "      <th>11904</th>\n",
       "      <td>2022</td>\n",
       "      <td>SE</td>\n",
       "      <td>FT</td>\n",
       "      <td>Principal Data Architect</td>\n",
       "      <td>38154</td>\n",
       "      <td>IN</td>\n",
       "      <td>100</td>\n",
       "      <td>IN</td>\n",
       "      <td>L</td>\n",
       "      <td>Principal Data Architect</td>\n",
       "      <td>False</td>\n",
       "    </tr>\n",
       "  </tbody>\n",
       "</table>\n",
       "</div>"
      ],
      "text/plain": [
       "       work_year experience_level employment_type                 job_title  \\\n",
       "11904       2022               SE              FT  Principal Data Architect   \n",
       "\n",
       "       salary_in_usd employee_residence  remote_ratio company_location  \\\n",
       "11904          38154                 IN           100               IN   \n",
       "\n",
       "      company_size           job_title_clean  outsourced  \n",
       "11904            L  Principal Data Architect       False  "
      ]
     },
     "execution_count": 16,
     "metadata": {},
     "output_type": "execute_result"
    }
   ],
   "source": [
    "df.loc[df['job_title']=='Principal Data Architect']"
   ]
  },
  {
   "cell_type": "markdown",
   "id": "f92cc9b6",
   "metadata": {},
   "source": [
    "However the employee is located in India where the 38,154 USD when converted to local currency equates to about 3 million INR. Compared to a yearly cost of living of around 1.2 million INR for a family of 4 according to https://www.numbeo.com/cost-of-living/country_result.jsp?country=India this value is so not anomalously low after all."
   ]
  },
  {
   "cell_type": "code",
   "execution_count": 17,
   "id": "eba5a253",
   "metadata": {
    "tags": []
   },
   "outputs": [
    {
     "data": {
      "text/html": [
       "<div>\n",
       "<style scoped>\n",
       "    .dataframe tbody tr th:only-of-type {\n",
       "        vertical-align: middle;\n",
       "    }\n",
       "\n",
       "    .dataframe tbody tr th {\n",
       "        vertical-align: top;\n",
       "    }\n",
       "\n",
       "    .dataframe thead tr th {\n",
       "        text-align: left;\n",
       "    }\n",
       "</style>\n",
       "<table border=\"1\" class=\"dataframe\">\n",
       "  <thead>\n",
       "    <tr>\n",
       "      <th></th>\n",
       "      <th>job_title_clean</th>\n",
       "      <th colspan=\"2\" halign=\"left\">salary_in_usd</th>\n",
       "    </tr>\n",
       "    <tr>\n",
       "      <th></th>\n",
       "      <th></th>\n",
       "      <th>mean</th>\n",
       "      <th>count</th>\n",
       "    </tr>\n",
       "  </thead>\n",
       "  <tbody>\n",
       "    <tr>\n",
       "      <th>0</th>\n",
       "      <td>Analytics Engineer Manager</td>\n",
       "      <td>399880.000000</td>\n",
       "      <td>1</td>\n",
       "    </tr>\n",
       "    <tr>\n",
       "      <th>1</th>\n",
       "      <td>Data Science Tech Lead</td>\n",
       "      <td>375000.000000</td>\n",
       "      <td>1</td>\n",
       "    </tr>\n",
       "    <tr>\n",
       "      <th>2</th>\n",
       "      <td>Head ML</td>\n",
       "      <td>299758.428571</td>\n",
       "      <td>7</td>\n",
       "    </tr>\n",
       "    <tr>\n",
       "      <th>3</th>\n",
       "      <td>Managing Director Data Science</td>\n",
       "      <td>280000.000000</td>\n",
       "      <td>2</td>\n",
       "    </tr>\n",
       "    <tr>\n",
       "      <th>4</th>\n",
       "      <td>AWS Data Architect</td>\n",
       "      <td>258000.000000</td>\n",
       "      <td>1</td>\n",
       "    </tr>\n",
       "    <tr>\n",
       "      <th>5</th>\n",
       "      <td>Cloud Data Architect</td>\n",
       "      <td>250000.000000</td>\n",
       "      <td>1</td>\n",
       "    </tr>\n",
       "    <tr>\n",
       "      <th>6</th>\n",
       "      <td>AI Architect</td>\n",
       "      <td>216827.571429</td>\n",
       "      <td>14</td>\n",
       "    </tr>\n",
       "    <tr>\n",
       "      <th>7</th>\n",
       "      <td>Director Data Science</td>\n",
       "      <td>213454.387097</td>\n",
       "      <td>31</td>\n",
       "    </tr>\n",
       "    <tr>\n",
       "      <th>8</th>\n",
       "      <td>Robotics Software Engineer</td>\n",
       "      <td>203750.000000</td>\n",
       "      <td>4</td>\n",
       "    </tr>\n",
       "    <tr>\n",
       "      <th>9</th>\n",
       "      <td>Head Data</td>\n",
       "      <td>202066.736842</td>\n",
       "      <td>38</td>\n",
       "    </tr>\n",
       "  </tbody>\n",
       "</table>\n",
       "</div>"
      ],
      "text/plain": [
       "                  job_title_clean  salary_in_usd      \n",
       "                                            mean count\n",
       "0      Analytics Engineer Manager  399880.000000     1\n",
       "1          Data Science Tech Lead  375000.000000     1\n",
       "2                         Head ML  299758.428571     7\n",
       "3  Managing Director Data Science  280000.000000     2\n",
       "4              AWS Data Architect  258000.000000     1\n",
       "5            Cloud Data Architect  250000.000000     1\n",
       "6                    AI Architect  216827.571429    14\n",
       "7           Director Data Science  213454.387097    31\n",
       "8      Robotics Software Engineer  203750.000000     4\n",
       "9                       Head Data  202066.736842    38"
      ]
     },
     "execution_count": 17,
     "metadata": {},
     "output_type": "execute_result"
    }
   ],
   "source": [
    "salary_by_clean_title = df[['job_title_clean','salary_in_usd']].groupby('job_title_clean').agg(['mean','count']).sort_values(by=('salary_in_usd','mean'),ascending=False).reset_index()\n",
    "salary_by_clean_title.head(10)"
   ]
  },
  {
   "cell_type": "code",
   "execution_count": 18,
   "id": "30665e28",
   "metadata": {
    "scrolled": true,
    "tags": []
   },
   "outputs": [
    {
     "data": {
      "text/html": [
       "<div>\n",
       "<style scoped>\n",
       "    .dataframe tbody tr th:only-of-type {\n",
       "        vertical-align: middle;\n",
       "    }\n",
       "\n",
       "    .dataframe tbody tr th {\n",
       "        vertical-align: top;\n",
       "    }\n",
       "\n",
       "    .dataframe thead tr th {\n",
       "        text-align: left;\n",
       "    }\n",
       "</style>\n",
       "<table border=\"1\" class=\"dataframe\">\n",
       "  <thead>\n",
       "    <tr>\n",
       "      <th></th>\n",
       "      <th>job_title_clean</th>\n",
       "      <th colspan=\"2\" halign=\"left\">salary_in_usd</th>\n",
       "    </tr>\n",
       "    <tr>\n",
       "      <th></th>\n",
       "      <th></th>\n",
       "      <th>mean</th>\n",
       "      <th>count</th>\n",
       "    </tr>\n",
       "  </thead>\n",
       "  <tbody>\n",
       "    <tr>\n",
       "      <th>121</th>\n",
       "      <td>AI Programmer</td>\n",
       "      <td>62042.000000</td>\n",
       "      <td>7</td>\n",
       "    </tr>\n",
       "    <tr>\n",
       "      <th>122</th>\n",
       "      <td>DataOps Associate</td>\n",
       "      <td>61399.000000</td>\n",
       "      <td>4</td>\n",
       "    </tr>\n",
       "    <tr>\n",
       "      <th>123</th>\n",
       "      <td>Sales Data Analytics</td>\n",
       "      <td>60000.000000</td>\n",
       "      <td>1</td>\n",
       "    </tr>\n",
       "    <tr>\n",
       "      <th>124</th>\n",
       "      <td>BI Data Engineer</td>\n",
       "      <td>60000.000000</td>\n",
       "      <td>1</td>\n",
       "    </tr>\n",
       "    <tr>\n",
       "      <th>125</th>\n",
       "      <td>Data Quality Manager</td>\n",
       "      <td>59059.000000</td>\n",
       "      <td>2</td>\n",
       "    </tr>\n",
       "    <tr>\n",
       "      <th>126</th>\n",
       "      <td>ML Specialist</td>\n",
       "      <td>55000.000000</td>\n",
       "      <td>2</td>\n",
       "    </tr>\n",
       "    <tr>\n",
       "      <th>127</th>\n",
       "      <td>Admin &amp; Data Analytics</td>\n",
       "      <td>50740.666667</td>\n",
       "      <td>3</td>\n",
       "    </tr>\n",
       "    <tr>\n",
       "      <th>128</th>\n",
       "      <td>Insight Analytics</td>\n",
       "      <td>46339.833333</td>\n",
       "      <td>6</td>\n",
       "    </tr>\n",
       "    <tr>\n",
       "      <th>129</th>\n",
       "      <td>Compliance Data Analytics</td>\n",
       "      <td>45000.000000</td>\n",
       "      <td>2</td>\n",
       "    </tr>\n",
       "    <tr>\n",
       "      <th>130</th>\n",
       "      <td>Principal Data Architect</td>\n",
       "      <td>38154.000000</td>\n",
       "      <td>1</td>\n",
       "    </tr>\n",
       "  </tbody>\n",
       "</table>\n",
       "</div>"
      ],
      "text/plain": [
       "               job_title_clean salary_in_usd      \n",
       "                                        mean count\n",
       "121              AI Programmer  62042.000000     7\n",
       "122          DataOps Associate  61399.000000     4\n",
       "123       Sales Data Analytics  60000.000000     1\n",
       "124           BI Data Engineer  60000.000000     1\n",
       "125       Data Quality Manager  59059.000000     2\n",
       "126              ML Specialist  55000.000000     2\n",
       "127     Admin & Data Analytics  50740.666667     3\n",
       "128          Insight Analytics  46339.833333     6\n",
       "129  Compliance Data Analytics  45000.000000     2\n",
       "130   Principal Data Architect  38154.000000     1"
      ]
     },
     "execution_count": 18,
     "metadata": {},
     "output_type": "execute_result"
    }
   ],
   "source": [
    "salary_by_clean_title.tail(10)"
   ]
  },
  {
   "cell_type": "markdown",
   "id": "194d2882",
   "metadata": {},
   "source": [
    "The top 10 and bottom 10 salaried position lists do not change by much from the title cleaning however it is not a big suprise as the major benefit of the cleaning and consoludation is for ML preprocessing"
   ]
  },
  {
   "cell_type": "markdown",
   "id": "c19ead45-8f00-47c2-b268-52e9eed42710",
   "metadata": {},
   "source": [
    "### Experience Level"
   ]
  },
  {
   "cell_type": "code",
   "execution_count": 19,
   "id": "42b9016c-f3eb-4060-8cd5-237842ca9e83",
   "metadata": {},
   "outputs": [
    {
     "data": {
      "image/png": "[encoded data removed]",
      "text/plain": [
       "<Figure size 640x480 with 1 Axes>"
      ]
     },
     "metadata": {},
     "output_type": "display_data"
    }
   ],
   "source": [
    "sns.barplot(data = df, x= 'experience_level',y='salary_in_usd',order=['EN','MI','SE','EX'])\n",
    "plt.show()"
   ]
  },
  {
   "cell_type": "markdown",
   "id": "95c8d054-8bd0-4640-b4aa-f1800cbe3e7b",
   "metadata": {},
   "source": [
    "The `experience_level` column appears to be an excellent indicator for salary, showing an apparent linear increase in the average salary with increasing seniority."
   ]
  },
  {
   "cell_type": "markdown",
   "id": "75418c41",
   "metadata": {},
   "source": [
    "### Employment Type"
   ]
  },
  {
   "cell_type": "code",
   "execution_count": 20,
   "id": "ccbd6720-a448-4dd2-a5bb-9a719cef3f33",
   "metadata": {},
   "outputs": [
    {
     "data": {
      "image/png": "[encoded data removed]",
      "text/plain": [
       "<Figure size 640x480 with 1 Axes>"
      ]
     },
     "metadata": {},
     "output_type": "display_data"
    },
    {
     "data": {
      "text/plain": [
       "employment_type\n",
       "FT    7885\n",
       "CT      25\n",
       "PT      22\n",
       "FL      12\n",
       "Name: count, dtype: int64"
      ]
     },
     "execution_count": 20,
     "metadata": {},
     "output_type": "execute_result"
    }
   ],
   "source": [
    "sns.barplot(data = df, x= 'employment_type',y='salary_in_usd')\n",
    "plt.show()\n",
    "\n",
    "df['employment_type'].value_counts()"
   ]
  },
  {
   "cell_type": "markdown",
   "id": "081dca80-5c84-4781-b255-c3ef6b18be52",
   "metadata": {},
   "source": [
    "The `employment_type` has a significant impact on salary as expected. There is an expectectation that part time will make less than full time considering fewer worked hours and freelance seems to be very similar to part-time with contract work close to full time but with notably high variance.\n",
    "Part-time, Freelance and Contract employment all have very high variance, likely attributable to the the very small sample sizes."
   ]
  },
  {
   "cell_type": "markdown",
   "id": "c67872e5",
   "metadata": {},
   "source": [
    "### Work Model"
   ]
  },
  {
   "cell_type": "code",
   "execution_count": 21,
   "id": "6c61e98b-a710-4e1a-ab54-9e67f488fa7e",
   "metadata": {},
   "outputs": [
    {
     "data": {
      "image/png": "[encoded data removed]",
      "text/plain": [
       "<Figure size 640x480 with 1 Axes>"
      ]
     },
     "metadata": {},
     "output_type": "display_data"
    },
    {
     "data": {
      "text/plain": [
       "remote_ratio\n",
       "0      4798\n",
       "100    2913\n",
       "50      233\n",
       "Name: count, dtype: int64"
      ]
     },
     "execution_count": 21,
     "metadata": {},
     "output_type": "execute_result"
    }
   ],
   "source": [
    "sns.barplot(data = df, x= 'remote_ratio',y='salary_in_usd')\n",
    "plt.show()\n",
    "\n",
    "df['remote_ratio'].value_counts()"
   ]
  },
  {
   "cell_type": "markdown",
   "id": "65663aeb-4aad-4e62-ac85-e992ba7270dd",
   "metadata": {},
   "source": [
    "Based on the bargraph, on-site workers have a slightly higher salary than remote workers but hybrid workers seem have a notably lower average salary, almost half of on-site/remote workers."
   ]
  },
  {
   "cell_type": "markdown",
   "id": "b8c4c61f",
   "metadata": {},
   "source": [
    "### Work Year"
   ]
  },
  {
   "cell_type": "code",
   "execution_count": 22,
   "id": "9a947c37-2d7c-44cf-b33e-ee6f6efa6be2",
   "metadata": {},
   "outputs": [
    {
     "data": {
      "image/png": "[encoded data removed]",
      "text/plain": [
       "<Figure size 640x480 with 1 Axes>"
      ]
     },
     "metadata": {},
     "output_type": "display_data"
    },
    {
     "data": {
      "text/plain": [
       "work_year\n",
       "2020      75\n",
       "2021     216\n",
       "2022    1113\n",
       "2023    4628\n",
       "2024    1912\n",
       "Name: count, dtype: int64"
      ]
     },
     "execution_count": 22,
     "metadata": {},
     "output_type": "execute_result"
    }
   ],
   "source": [
    "ax = sns.lineplot(data = df,x='work_year',y='salary_in_usd')\n",
    "ax.set_xticks(list(range(df['work_year'].min(),df['work_year'].max()+1)))\n",
    "plt.show()\n",
    "df['work_year'].value_counts().sort_index()"
   ]
  },
  {
   "cell_type": "markdown",
   "id": "dcf2db0a-3b0a-4e3a-8465-10ce22c8d55b",
   "metadata": {},
   "source": [
    "There is generally an upward trend in salaries over the past 5 years."
   ]
  },
  {
   "cell_type": "markdown",
   "id": "eec3d905",
   "metadata": {},
   "source": [
    "### Employee Country and Company Country"
   ]
  },
  {
   "cell_type": "code",
   "execution_count": 23,
   "id": "85bd3375",
   "metadata": {},
   "outputs": [
    {
     "data": {
      "text/plain": [
       "outsourced\n",
       "False    7817\n",
       "True      127\n",
       "Name: count, dtype: int64"
      ]
     },
     "execution_count": 23,
     "metadata": {},
     "output_type": "execute_result"
    }
   ],
   "source": [
    "df['outsourced'].value_counts()"
   ]
  },
  {
   "cell_type": "markdown",
   "id": "512a8cce",
   "metadata": {},
   "source": [
    "The vast majority (~98%) of employees are not outsourced so I will primarily look at the employee residence for visualization since the visualisations would be roughly the same for company location. Then will look at outsourcing at the end of this section."
   ]
  },
  {
   "cell_type": "code",
   "execution_count": 24,
   "id": "aaa8bb52-dfc7-4afd-aaa3-3a4653ae92e1",
   "metadata": {},
   "outputs": [
    {
     "data": {
      "text/html": [
       "<div>\n",
       "<style scoped>\n",
       "    .dataframe tbody tr th:only-of-type {\n",
       "        vertical-align: middle;\n",
       "    }\n",
       "\n",
       "    .dataframe tbody tr th {\n",
       "        vertical-align: top;\n",
       "    }\n",
       "\n",
       "    .dataframe thead th {\n",
       "        text-align: right;\n",
       "    }\n",
       "</style>\n",
       "<table border=\"1\" class=\"dataframe\">\n",
       "  <thead>\n",
       "    <tr style=\"text-align: right;\">\n",
       "      <th></th>\n",
       "      <th>employee_residence</th>\n",
       "      <th>reported_salaries</th>\n",
       "      <th>percentage of total</th>\n",
       "    </tr>\n",
       "  </thead>\n",
       "  <tbody>\n",
       "    <tr>\n",
       "      <th>0</th>\n",
       "      <td>US</td>\n",
       "      <td>6466</td>\n",
       "      <td>81.0</td>\n",
       "    </tr>\n",
       "    <tr>\n",
       "      <th>1</th>\n",
       "      <td>GB</td>\n",
       "      <td>459</td>\n",
       "      <td>6.0</td>\n",
       "    </tr>\n",
       "    <tr>\n",
       "      <th>2</th>\n",
       "      <td>CA</td>\n",
       "      <td>293</td>\n",
       "      <td>4.0</td>\n",
       "    </tr>\n",
       "    <tr>\n",
       "      <th>3</th>\n",
       "      <td>DE</td>\n",
       "      <td>84</td>\n",
       "      <td>1.0</td>\n",
       "    </tr>\n",
       "    <tr>\n",
       "      <th>4</th>\n",
       "      <td>ES</td>\n",
       "      <td>73</td>\n",
       "      <td>1.0</td>\n",
       "    </tr>\n",
       "    <tr>\n",
       "      <th>...</th>\n",
       "      <td>...</td>\n",
       "      <td>...</td>\n",
       "      <td>...</td>\n",
       "    </tr>\n",
       "    <tr>\n",
       "      <th>82</th>\n",
       "      <td>JE</td>\n",
       "      <td>1</td>\n",
       "      <td>0.0</td>\n",
       "    </tr>\n",
       "    <tr>\n",
       "      <th>83</th>\n",
       "      <td>KW</td>\n",
       "      <td>1</td>\n",
       "      <td>0.0</td>\n",
       "    </tr>\n",
       "    <tr>\n",
       "      <th>84</th>\n",
       "      <td>LU</td>\n",
       "      <td>1</td>\n",
       "      <td>0.0</td>\n",
       "    </tr>\n",
       "    <tr>\n",
       "      <th>85</th>\n",
       "      <td>MU</td>\n",
       "      <td>1</td>\n",
       "      <td>0.0</td>\n",
       "    </tr>\n",
       "    <tr>\n",
       "      <th>86</th>\n",
       "      <td>IQ</td>\n",
       "      <td>1</td>\n",
       "      <td>0.0</td>\n",
       "    </tr>\n",
       "  </tbody>\n",
       "</table>\n",
       "<p>87 rows × 3 columns</p>\n",
       "</div>"
      ],
      "text/plain": [
       "   employee_residence  reported_salaries  percentage of total\n",
       "0                  US               6466                 81.0\n",
       "1                  GB                459                  6.0\n",
       "2                  CA                293                  4.0\n",
       "3                  DE                 84                  1.0\n",
       "4                  ES                 73                  1.0\n",
       "..                ...                ...                  ...\n",
       "82                 JE                  1                  0.0\n",
       "83                 KW                  1                  0.0\n",
       "84                 LU                  1                  0.0\n",
       "85                 MU                  1                  0.0\n",
       "86                 IQ                  1                  0.0\n",
       "\n",
       "[87 rows x 3 columns]"
      ]
     },
     "execution_count": 24,
     "metadata": {},
     "output_type": "execute_result"
    }
   ],
   "source": [
    "salaries_per_country = df[['employee_residence','salary_in_usd']].groupby('employee_residence').count().sort_values(by='salary_in_usd',ascending=False).reset_index()\n",
    "salaries_per_country.columns = ['employee_residence','reported_salaries']\n",
    "salaries_per_country['percentage of total'] = np.round(100 * salaries_per_country['reported_salaries'] / len(df))\n",
    "salaries_per_country"
   ]
  },
  {
   "cell_type": "code",
   "execution_count": 25,
   "id": "8d503470-9e7a-4b36-b033-14e0eccdc794",
   "metadata": {},
   "outputs": [
    {
     "name": "stdout",
     "output_type": "stream",
     "text": [
      "Number of countries with only 1 salary reported: 24\n"
     ]
    }
   ],
   "source": [
    "print('Number of countries with only 1 salary reported: {}'.format(np.sum(salaries_per_country['reported_salaries']==1)))"
   ]
  },
  {
   "cell_type": "markdown",
   "id": "1ddb52ff-618f-46cd-9933-eb71e617c726",
   "metadata": {},
   "source": [
    "The dataset is quite unbalanced regarding the countries represented as 90% of all the salaries reported are from the US, the UK and Canada and with 26 countries only represented once. The major issue with only having one sample per country is that when data is split to create the training and test set, it is likely that data will be present in the test set and was not in the test set. So, can we drop the country column or does it impact the reported salary significantly?"
   ]
  },
  {
   "cell_type": "code",
   "execution_count": 26,
   "id": "607d0842-9cdc-4573-a939-b2b4d911ef02",
   "metadata": {},
   "outputs": [
    {
     "data": {
      "text/plain": [
       "<Axes: xlabel='salary_in_usd', ylabel='employee_residence'>"
      ]
     },
     "execution_count": 26,
     "metadata": {},
     "output_type": "execute_result"
    },
    {
     "data": {
      "image/png": "[encoded data removed]",
      "text/plain": [
       "<Figure size 1500x2500 with 1 Axes>"
      ]
     },
     "metadata": {},
     "output_type": "display_data"
    }
   ],
   "source": [
    "ordering_bar = df[['employee_residence','salary_in_usd']].groupby('employee_residence').mean().reset_index().sort_values('salary_in_usd',ascending=False)\n",
    "\n",
    "plt.figure(figsize=(15,25))\n",
    "sns.barplot(data=df,x='salary_in_usd',y='employee_residence',orient='hor',order=ordering_bar['employee_residence'])"
   ]
  },
  {
   "cell_type": "markdown",
   "id": "346d7da6-648b-48e4-b138-9686a2614ce0",
   "metadata": {},
   "source": [
    "There is a large amount of variability in the salary by country so an important feature that needs to be a part of the model.\n",
    "\n",
    "There are a few possible options here since using the country name as a catergorical column is slightly problematic due to many countries only represented once. \n",
    "1. Group less reported countries as other (e.g. countries with less than 10 salaries reported).\n",
    "\n",
    "I feel like this step gives up lots of information unnecessarily and there are potentially better options. e.g. at the bottom of the list there is Costa Rica, Peru, Ecuador, Honduras which are all very close geographically and are clustered together average salary-wise. \n",
    "\n",
    "2. Replace Country with a numeric metric that that would strongly influence the salary in a given country.\n",
    "\n",
    "This is elaborated on in the next section.\n",
    "\n",
    "3. Replace the Country with the coordinates to allow the model to account for geographical location.\n",
    "\n",
    "Locations can be grabbed from here: https://developers.google.com/public-data/docs/canonical/countries_csv or here https://www.kaggle.com/datasets/paultimothymooney/latitude-and-longitude-for-every-country-and-state/data as a directly downloadable csv (but sourced from the first link)"
   ]
  },
  {
   "cell_type": "markdown",
   "id": "cb2099bf-ccce-484d-9092-5b72a99e8781",
   "metadata": {},
   "source": [
    "#### Numeric Metric to replace Country\n",
    "The Purchasig Power Parity (PPP) determines the cost of a basket of goods in a given country. Inherently it should dictate the strength of usd in a given country and is freely available from various sources. I will use the CIA datasource https://www.cia.gov/the-world-factbook/field/real-gdp-per-capita/country-comparison/ as it is the most complete. For example it is the only source which provides a value for Jersey. In this case, I will need to use the GDP per capita adjusted by PPP which represents the adjusted average salary by country considering the strength of the currency.\n",
    "\n",
    "As the CIA dataset is the only complete dataset corrected by PPP, the data is limited by a single value for each country. So the assumption is that this value is representative of the GDP of each country over the 2020 to 2024 time period. With that said, we do have a column for year which should at least partially account for inflation separately.\n",
    "\n",
    "I will also merge in coordinates for each country from a custom dataset consisting GDP adjusted by PPP and coordinates, merged from the datasources listed above using the country codes."
   ]
  },
  {
   "cell_type": "code",
   "execution_count": 27,
   "id": "2bda7997-903b-48b2-a41e-9f1834291527",
   "metadata": {},
   "outputs": [
    {
     "data": {
      "text/html": [
       "<div>\n",
       "<style scoped>\n",
       "    .dataframe tbody tr th:only-of-type {\n",
       "        vertical-align: middle;\n",
       "    }\n",
       "\n",
       "    .dataframe tbody tr th {\n",
       "        vertical-align: top;\n",
       "    }\n",
       "\n",
       "    .dataframe thead th {\n",
       "        text-align: right;\n",
       "    }\n",
       "</style>\n",
       "<table border=\"1\" class=\"dataframe\">\n",
       "  <thead>\n",
       "    <tr style=\"text-align: right;\">\n",
       "      <th></th>\n",
       "      <th>GDP</th>\n",
       "    </tr>\n",
       "    <tr>\n",
       "      <th>country_code</th>\n",
       "      <th></th>\n",
       "    </tr>\n",
       "  </thead>\n",
       "  <tbody>\n",
       "    <tr>\n",
       "      <th>LI</th>\n",
       "      <td>139100</td>\n",
       "    </tr>\n",
       "    <tr>\n",
       "      <th>MC</th>\n",
       "      <td>115700</td>\n",
       "    </tr>\n",
       "    <tr>\n",
       "      <th>LU</th>\n",
       "      <td>115700</td>\n",
       "    </tr>\n",
       "    <tr>\n",
       "      <th>SG</th>\n",
       "      <td>106000</td>\n",
       "    </tr>\n",
       "    <tr>\n",
       "      <th>IE</th>\n",
       "      <td>102500</td>\n",
       "    </tr>\n",
       "    <tr>\n",
       "      <th>...</th>\n",
       "      <td>...</td>\n",
       "    </tr>\n",
       "    <tr>\n",
       "      <th>MZ</th>\n",
       "      <td>1200</td>\n",
       "    </tr>\n",
       "    <tr>\n",
       "      <th>NE</th>\n",
       "      <td>1200</td>\n",
       "    </tr>\n",
       "    <tr>\n",
       "      <th>CD</th>\n",
       "      <td>1100</td>\n",
       "    </tr>\n",
       "    <tr>\n",
       "      <th>SO</th>\n",
       "      <td>1100</td>\n",
       "    </tr>\n",
       "    <tr>\n",
       "      <th>BI</th>\n",
       "      <td>700</td>\n",
       "    </tr>\n",
       "  </tbody>\n",
       "</table>\n",
       "<p>224 rows × 1 columns</p>\n",
       "</div>"
      ],
      "text/plain": [
       "                 GDP\n",
       "country_code        \n",
       "LI            139100\n",
       "MC            115700\n",
       "LU            115700\n",
       "SG            106000\n",
       "IE            102500\n",
       "...              ...\n",
       "MZ              1200\n",
       "NE              1200\n",
       "CD              1100\n",
       "SO              1100\n",
       "BI               700\n",
       "\n",
       "[224 rows x 1 columns]"
      ]
     },
     "execution_count": 27,
     "metadata": {},
     "output_type": "execute_result"
    }
   ],
   "source": [
    "country_gdp = pd.read_csv('GDP_and_coordinates.csv',index_col='country_code')\n",
    "country_gdp[['GDP']]"
   ]
  },
  {
   "cell_type": "code",
   "execution_count": 28,
   "id": "ef6d965a-b174-432d-83fc-df2783006886",
   "metadata": {},
   "outputs": [
    {
     "data": {
      "text/html": [
       "<div>\n",
       "<style scoped>\n",
       "    .dataframe tbody tr th:only-of-type {\n",
       "        vertical-align: middle;\n",
       "    }\n",
       "\n",
       "    .dataframe tbody tr th {\n",
       "        vertical-align: top;\n",
       "    }\n",
       "\n",
       "    .dataframe thead th {\n",
       "        text-align: right;\n",
       "    }\n",
       "</style>\n",
       "<table border=\"1\" class=\"dataframe\">\n",
       "  <thead>\n",
       "    <tr style=\"text-align: right;\">\n",
       "      <th></th>\n",
       "      <th>work_year</th>\n",
       "      <th>experience_level</th>\n",
       "      <th>employment_type</th>\n",
       "      <th>job_title</th>\n",
       "      <th>salary_in_usd</th>\n",
       "      <th>employee_residence</th>\n",
       "      <th>remote_ratio</th>\n",
       "      <th>company_location</th>\n",
       "      <th>company_size</th>\n",
       "      <th>job_title_clean</th>\n",
       "      <th>outsourced</th>\n",
       "      <th>employee_residence_gdp</th>\n",
       "      <th>company_location_gdp</th>\n",
       "    </tr>\n",
       "  </thead>\n",
       "  <tbody>\n",
       "    <tr>\n",
       "      <th>0</th>\n",
       "      <td>2024</td>\n",
       "      <td>SE</td>\n",
       "      <td>FT</td>\n",
       "      <td>Data Architect</td>\n",
       "      <td>363000</td>\n",
       "      <td>US</td>\n",
       "      <td>0</td>\n",
       "      <td>US</td>\n",
       "      <td>M</td>\n",
       "      <td>Data Architect</td>\n",
       "      <td>False</td>\n",
       "      <td>63700</td>\n",
       "      <td>63700</td>\n",
       "    </tr>\n",
       "    <tr>\n",
       "      <th>1</th>\n",
       "      <td>2024</td>\n",
       "      <td>SE</td>\n",
       "      <td>FT</td>\n",
       "      <td>Data Architect</td>\n",
       "      <td>139800</td>\n",
       "      <td>US</td>\n",
       "      <td>0</td>\n",
       "      <td>US</td>\n",
       "      <td>M</td>\n",
       "      <td>Data Architect</td>\n",
       "      <td>False</td>\n",
       "      <td>63700</td>\n",
       "      <td>63700</td>\n",
       "    </tr>\n",
       "    <tr>\n",
       "      <th>2</th>\n",
       "      <td>2024</td>\n",
       "      <td>MI</td>\n",
       "      <td>FT</td>\n",
       "      <td>Data Scientist</td>\n",
       "      <td>109000</td>\n",
       "      <td>US</td>\n",
       "      <td>100</td>\n",
       "      <td>US</td>\n",
       "      <td>M</td>\n",
       "      <td>Data Science</td>\n",
       "      <td>False</td>\n",
       "      <td>63700</td>\n",
       "      <td>63700</td>\n",
       "    </tr>\n",
       "    <tr>\n",
       "      <th>3</th>\n",
       "      <td>2024</td>\n",
       "      <td>MI</td>\n",
       "      <td>FT</td>\n",
       "      <td>Data Scientist</td>\n",
       "      <td>93000</td>\n",
       "      <td>US</td>\n",
       "      <td>100</td>\n",
       "      <td>US</td>\n",
       "      <td>M</td>\n",
       "      <td>Data Science</td>\n",
       "      <td>False</td>\n",
       "      <td>63700</td>\n",
       "      <td>63700</td>\n",
       "    </tr>\n",
       "    <tr>\n",
       "      <th>4</th>\n",
       "      <td>2024</td>\n",
       "      <td>MI</td>\n",
       "      <td>FT</td>\n",
       "      <td>Research Engineer</td>\n",
       "      <td>38888</td>\n",
       "      <td>PT</td>\n",
       "      <td>0</td>\n",
       "      <td>PT</td>\n",
       "      <td>M</td>\n",
       "      <td>Research Engineer</td>\n",
       "      <td>False</td>\n",
       "      <td>33700</td>\n",
       "      <td>33700</td>\n",
       "    </tr>\n",
       "  </tbody>\n",
       "</table>\n",
       "</div>"
      ],
      "text/plain": [
       "   work_year experience_level employment_type          job_title  \\\n",
       "0       2024               SE              FT     Data Architect   \n",
       "1       2024               SE              FT     Data Architect   \n",
       "2       2024               MI              FT     Data Scientist   \n",
       "3       2024               MI              FT     Data Scientist   \n",
       "4       2024               MI              FT  Research Engineer   \n",
       "\n",
       "   salary_in_usd employee_residence  remote_ratio company_location  \\\n",
       "0         363000                 US             0               US   \n",
       "1         139800                 US             0               US   \n",
       "2         109000                 US           100               US   \n",
       "3          93000                 US           100               US   \n",
       "4          38888                 PT             0               PT   \n",
       "\n",
       "  company_size    job_title_clean  outsourced  employee_residence_gdp  \\\n",
       "0            M     Data Architect       False                   63700   \n",
       "1            M     Data Architect       False                   63700   \n",
       "2            M       Data Science       False                   63700   \n",
       "3            M       Data Science       False                   63700   \n",
       "4            M  Research Engineer       False                   33700   \n",
       "\n",
       "   company_location_gdp  \n",
       "0                 63700  \n",
       "1                 63700  \n",
       "2                 63700  \n",
       "3                 63700  \n",
       "4                 33700  "
      ]
     },
     "execution_count": 28,
     "metadata": {},
     "output_type": "execute_result"
    }
   ],
   "source": [
    "df = df.merge(country_gdp[['GDP']],left_on='employee_residence',right_index=True,how='left')\n",
    "df.rename(columns={'GDP':'employee_residence_gdp'}, inplace=True)\n",
    "\n",
    "df = df.merge(country_gdp[['GDP']],left_on='company_location',right_index=True,how='left')\n",
    "df.rename(columns={'GDP':'company_location_gdp'}, inplace=True)\n",
    "\n",
    "df.head()"
   ]
  },
  {
   "cell_type": "code",
   "execution_count": 29,
   "id": "a8871475-d617-4ed2-a2aa-45e2afc17c8c",
   "metadata": {},
   "outputs": [
    {
     "name": "stdout",
     "output_type": "stream",
     "text": [
      "Pearson score: 0.10366\n"
     ]
    },
    {
     "data": {
      "image/png": "[encoded data removed]",
      "text/plain": [
       "<Figure size 640x480 with 1 Axes>"
      ]
     },
     "metadata": {},
     "output_type": "display_data"
    }
   ],
   "source": [
    "model = LinearRegression()\n",
    "x = np.array(df['employee_residence_gdp']).reshape(-1, 1)\n",
    "y = np.array(df['salary_in_usd']).reshape(-1, 1)\n",
    "model.fit(x,y)\n",
    "print('Pearson score: {}'.format(round(model.score(x,y),5)))\n",
    "\n",
    "sns.regplot(data = df, x='employee_residence_gdp',y='salary_in_usd')\n",
    "plt.show()"
   ]
  },
  {
   "cell_type": "markdown",
   "id": "1d437156",
   "metadata": {},
   "source": [
    "The GCP(PPP) per country of the employee residence (or company location) is not an obviously strong indicator for salary. For example with a linear regression model, the gdp only accounts for ~12% of the variation in the salary. Nevertheless deeper relationships could be identified in the model and the feature importance would be a great indicator after model training."
   ]
  },
  {
   "cell_type": "code",
   "execution_count": 30,
   "id": "60d6f489",
   "metadata": {},
   "outputs": [
    {
     "data": {
      "image/png": "[encoded data removed]",
      "text/plain": [
       "<Figure size 640x480 with 1 Axes>"
      ]
     },
     "metadata": {},
     "output_type": "display_data"
    }
   ],
   "source": [
    "sns.barplot(data=df,x='outsourced',y='salary_in_usd')\n",
    "plt.show()"
   ]
  },
  {
   "cell_type": "markdown",
   "id": "cc0489bd",
   "metadata": {},
   "source": [
    "Outsourced employees generally just over half the salary of employees co-located with their company."
   ]
  },
  {
   "cell_type": "code",
   "execution_count": 31,
   "id": "ad27f8d1",
   "metadata": {},
   "outputs": [
    {
     "data": {
      "image/png": "[encoded data removed]",
      "text/plain": [
       "<Figure size 640x480 with 1 Axes>"
      ]
     },
     "metadata": {},
     "output_type": "display_data"
    },
    {
     "name": "stdout",
     "output_type": "stream",
     "text": [
      "Top 10 most popular countries for outsourced employees:\n",
      "\n",
      "employee_residence\n",
      "IN    16\n",
      "FR     7\n",
      "IT     7\n",
      "US     6\n",
      "ES     6\n",
      "PK     5\n",
      "DE     5\n",
      "AR     4\n",
      "CA     4\n",
      "UZ     3\n",
      "Name: count, dtype: int64\n",
      "\n",
      "Number of countries represented: 54\n"
     ]
    }
   ],
   "source": [
    "sns.barplot(data=df, x='outsourced',y='employee_residence_gdp')\n",
    "plt.title('GDP of employee country')\n",
    "plt.show()\n",
    "\n",
    "print('Top 10 most popular countries for outsourced employees:\\n')\n",
    "print(df[df['outsourced']==True]['employee_residence'].value_counts().head(10))\n",
    "\n",
    "print('\\nNumber of countries represented: {}'.format(len(df[df['outsourced']==True]['employee_residence'].unique())))"
   ]
  },
  {
   "cell_type": "markdown",
   "id": "6a29f25d",
   "metadata": {},
   "source": [
    "The data suggests that outsourced employees generally are live in countries with a lower GDP e.g. The highest number of outsourced employees live in India. Although there are many countries such as France, Italy etc. with high GDP"
   ]
  },
  {
   "cell_type": "markdown",
   "id": "e3acf798",
   "metadata": {},
   "source": [
    "### Company Size"
   ]
  },
  {
   "cell_type": "code",
   "execution_count": 32,
   "id": "0d5ceecf",
   "metadata": {},
   "outputs": [
    {
     "data": {
      "image/png": "[encoded data removed]",
      "text/plain": [
       "<Figure size 640x480 with 1 Axes>"
      ]
     },
     "metadata": {},
     "output_type": "display_data"
    }
   ],
   "source": [
    "sns.barplot(data=df[['salary_in_usd','company_size']],x='company_size',y='salary_in_usd',order=['S','M','L'])\n",
    "plt.show()"
   ]
  },
  {
   "cell_type": "markdown",
   "id": "d624ee72-7221-471a-b849-facfd05906cc",
   "metadata": {},
   "source": [
    "The company size column appears to be a good indicator of employee salary. Salary is highest for Medium sized companies, followed by Large companies with Small companies paying the lowest average salary"
   ]
  },
  {
   "cell_type": "code",
   "execution_count": 33,
   "id": "303ef508-2161-4010-b692-9aeb8a5dd2e8",
   "metadata": {},
   "outputs": [
    {
     "data": {
      "text/plain": [
       "company_size\n",
       "M    7180\n",
       "L     595\n",
       "S     175\n",
       "Name: count, dtype: int64"
      ]
     },
     "execution_count": 33,
     "metadata": {},
     "output_type": "execute_result"
    }
   ],
   "source": [
    "df['company_size'].value_counts()"
   ]
  },
  {
   "cell_type": "code",
   "execution_count": 34,
   "id": "d5f4be91",
   "metadata": {},
   "outputs": [
    {
     "data": {
      "text/plain": [
       "employee_residence\n",
       "US    6460\n",
       "GB     458\n",
       "CA     289\n",
       "DE      79\n",
       "ES      67\n",
       "IN      57\n",
       "FR      48\n",
       "AU      30\n",
       "PT      27\n",
       "NL      21\n",
       "Name: count, dtype: int64"
      ]
     },
     "execution_count": 34,
     "metadata": {},
     "output_type": "execute_result"
    }
   ],
   "source": [
    "df[df['outsourced']==False]['employee_residence'].value_counts().head(10)"
   ]
  },
  {
   "cell_type": "code",
   "execution_count": 35,
   "id": "6a35e34a-dd6a-49c6-aa00-c7979081be71",
   "metadata": {},
   "outputs": [],
   "source": [
    "df = df.merge(country_gdp[['latitude','longitude']],left_on='employee_residence',right_index=True,how='left')\n",
    "df.rename(columns={'latitude':'employee_latitude','longitude':'employee_longitude'}, inplace=True)"
   ]
  },
  {
   "cell_type": "code",
   "execution_count": 36,
   "id": "e11609a4-434b-46e2-9272-7d51c54f8492",
   "metadata": {},
   "outputs": [],
   "source": [
    "df = df.merge(country_gdp[['latitude','longitude']],left_on='company_location',right_index=True,how='left')\n",
    "df.rename(columns={'latitude':'company_latitude','longitude':'company_longitude'}, inplace=True)"
   ]
  },
  {
   "cell_type": "code",
   "execution_count": 37,
   "id": "6dccf1d2",
   "metadata": {},
   "outputs": [],
   "source": [
    "df.to_csv('data_science_salaries_clean.csv')"
   ]
  },
  {
   "cell_type": "markdown",
   "id": "5998fee3-27a6-47c4-b031-baa32ed87701",
   "metadata": {},
   "source": [
    "## Data Cleaning Summary\n",
    "\n",
    "The dataset had no missing data and required very little cleaning. The cleaned and augmented dataset is saved as `data_science_salaries_clean.csv`\n",
    "\n",
    "### Existing columns\n",
    "\n",
    "1. `experience_level`, `employment_type`, `work_models`, `work_year`, `employee_residence`,`salary_in_usd`, `company_location`, `company size`,`job_title` columns were unmodified.\n",
    "\n",
    "2. The `salary` and the `salary_currency` columns were dropped.\n",
    "\n",
    "\n",
    "### New columns\n",
    "1. `co_located` column was created by checking whether the `company_location` and `employee_residence` columns are the same. The data in the column is boolean where True indicates that the employee and company reside in the same locationa and False indicates that the employee lives in a different country from the company.\n",
    "\n",
    "2. `employee_residence_gdp` and `company_location_gdp` were joined in from a new datasource which contained the per capita GDP adjusted by PPP for each country\n",
    "\n",
    "3. `company_latitude`, `company_longitude`, `employee_latitude`, `employee_longitude` were joined from a new datasource. They simply contain the coordinates for the data in the `company_location` and the `employee_residence` columns.\n",
    "\n",
    "4. `job_title_clean` was created from the `job_title` column to consolidate job titles, e.g. adding missing acronyms, regional spellings, \n",
    "### Notes for later\n",
    "\n",
    "The full vocabulary of possible single words in the `job_title` column is stored as a separate text file called `vobaulary.json`\n",
    "\n",
    "Code to read in the json file later:\n",
    "\n",
    "`with open(\"file.json\", 'r') as f:`\n",
    "\n",
    "   `>>>>list = json.load(f)`\n",
    "   \n",
    "## Data Visualization Summary\n",
    "\n",
    "Preliminary visualization was performed but a dashboard will be prepared with Tableau.\n",
    "\n",
    "The cleaned dataset will be used for the Tableau visualisation\n",
    "\n",
    "`experience_level` Salary increases linearly with experience level, ranging from \\\\$80,000 for entry level to \\\\$200,000 for executive level\n",
    "\n",
    "`employment_type` Full time and contract have much higher salary, around 100% more than part time and freelance\n",
    "\n",
    "`work_models` Hybrid employment pays significantly less, 60% of on-site and remote employment\n",
    "\n",
    "`work_year` Salary has been steadily increasing over the the 5 year time period\n",
    "\n",
    "`employee_residence` and `company location` impact the salary but the relationship between gdp(ppp) is hard to determine without a model\n",
    "\n",
    "`company size` Medium companies pay the most, followed by large and then small companies which pay about 60% of the salary of medium companies\n",
    "\n",
    "`outsourced` Outsourced employees are paid about 50% of their non outsourced counterparts"
   ]
  }
 ],
 "metadata": {
  "kernelspec": {
   "display_name": "Python 3 (ipykernel)",
   "language": "python",
   "name": "python3"
  },
  "language_info": {
   "codemirror_mode": {
    "name": "ipython",
    "version": 3
   },
   "file_extension": ".py",
   "mimetype": "text/x-python",
   "name": "python",
   "nbconvert_exporter": "python",
   "pygments_lexer": "ipython3",
   "version": "3.11.5"
  }
 },
 "nbformat": 4,
 "nbformat_minor": 5
}
