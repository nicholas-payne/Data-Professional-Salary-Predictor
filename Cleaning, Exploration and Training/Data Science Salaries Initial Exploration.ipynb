{
 "cells": [
  {
   "cell_type": "code",
   "execution_count": 1,
   "id": "8f95360b-17b8-402c-afa5-fa3ccc76e791",
   "metadata": {
    "tags": []
   },
   "outputs": [],
   "source": [
    "import numpy as np\n",
    "import pandas as pd\n",
    "import seaborn as sns\n",
    "import matplotlib.pyplot as plt"
   ]
  },
  {
   "cell_type": "code",
   "execution_count": 2,
   "id": "2e57ce52-5f49-4b18-b2dc-739427712218",
   "metadata": {
    "tags": []
   },
   "outputs": [
    {
     "data": {
      "text/html": [
       "<div>\n",
       "<style scoped>\n",
       "    .dataframe tbody tr th:only-of-type {\n",
       "        vertical-align: middle;\n",
       "    }\n",
       "\n",
       "    .dataframe tbody tr th {\n",
       "        vertical-align: top;\n",
       "    }\n",
       "\n",
       "    .dataframe thead th {\n",
       "        text-align: right;\n",
       "    }\n",
       "</style>\n",
       "<table border=\"1\" class=\"dataframe\">\n",
       "  <thead>\n",
       "    <tr style=\"text-align: right;\">\n",
       "      <th></th>\n",
       "      <th>work_year</th>\n",
       "      <th>experience_level</th>\n",
       "      <th>employment_type</th>\n",
       "      <th>job_title</th>\n",
       "      <th>salary</th>\n",
       "      <th>salary_currency</th>\n",
       "      <th>salary_in_usd</th>\n",
       "      <th>employee_residence</th>\n",
       "      <th>remote_ratio</th>\n",
       "      <th>company_location</th>\n",
       "      <th>company_size</th>\n",
       "    </tr>\n",
       "  </thead>\n",
       "  <tbody>\n",
       "    <tr>\n",
       "      <th>0</th>\n",
       "      <td>2024</td>\n",
       "      <td>EN</td>\n",
       "      <td>FT</td>\n",
       "      <td>Research Analyst</td>\n",
       "      <td>200000</td>\n",
       "      <td>USD</td>\n",
       "      <td>200000</td>\n",
       "      <td>US</td>\n",
       "      <td>0</td>\n",
       "      <td>US</td>\n",
       "      <td>M</td>\n",
       "    </tr>\n",
       "    <tr>\n",
       "      <th>1</th>\n",
       "      <td>2024</td>\n",
       "      <td>EN</td>\n",
       "      <td>FT</td>\n",
       "      <td>Research Analyst</td>\n",
       "      <td>150000</td>\n",
       "      <td>USD</td>\n",
       "      <td>150000</td>\n",
       "      <td>US</td>\n",
       "      <td>0</td>\n",
       "      <td>US</td>\n",
       "      <td>M</td>\n",
       "    </tr>\n",
       "    <tr>\n",
       "      <th>2</th>\n",
       "      <td>2024</td>\n",
       "      <td>SE</td>\n",
       "      <td>FT</td>\n",
       "      <td>Machine Learning Engineer</td>\n",
       "      <td>220000</td>\n",
       "      <td>USD</td>\n",
       "      <td>220000</td>\n",
       "      <td>US</td>\n",
       "      <td>0</td>\n",
       "      <td>US</td>\n",
       "      <td>M</td>\n",
       "    </tr>\n",
       "    <tr>\n",
       "      <th>3</th>\n",
       "      <td>2024</td>\n",
       "      <td>SE</td>\n",
       "      <td>FT</td>\n",
       "      <td>Machine Learning Engineer</td>\n",
       "      <td>137500</td>\n",
       "      <td>USD</td>\n",
       "      <td>137500</td>\n",
       "      <td>US</td>\n",
       "      <td>0</td>\n",
       "      <td>US</td>\n",
       "      <td>M</td>\n",
       "    </tr>\n",
       "    <tr>\n",
       "      <th>4</th>\n",
       "      <td>2024</td>\n",
       "      <td>SE</td>\n",
       "      <td>FT</td>\n",
       "      <td>Data Science</td>\n",
       "      <td>170000</td>\n",
       "      <td>USD</td>\n",
       "      <td>170000</td>\n",
       "      <td>US</td>\n",
       "      <td>0</td>\n",
       "      <td>US</td>\n",
       "      <td>M</td>\n",
       "    </tr>\n",
       "    <tr>\n",
       "      <th>5</th>\n",
       "      <td>2024</td>\n",
       "      <td>SE</td>\n",
       "      <td>FT</td>\n",
       "      <td>Data Science</td>\n",
       "      <td>130000</td>\n",
       "      <td>USD</td>\n",
       "      <td>130000</td>\n",
       "      <td>US</td>\n",
       "      <td>0</td>\n",
       "      <td>US</td>\n",
       "      <td>M</td>\n",
       "    </tr>\n",
       "    <tr>\n",
       "      <th>6</th>\n",
       "      <td>2024</td>\n",
       "      <td>SE</td>\n",
       "      <td>FT</td>\n",
       "      <td>Business Intelligence Analyst</td>\n",
       "      <td>138000</td>\n",
       "      <td>USD</td>\n",
       "      <td>138000</td>\n",
       "      <td>US</td>\n",
       "      <td>0</td>\n",
       "      <td>US</td>\n",
       "      <td>M</td>\n",
       "    </tr>\n",
       "    <tr>\n",
       "      <th>7</th>\n",
       "      <td>2024</td>\n",
       "      <td>SE</td>\n",
       "      <td>FT</td>\n",
       "      <td>Business Intelligence Analyst</td>\n",
       "      <td>86000</td>\n",
       "      <td>USD</td>\n",
       "      <td>86000</td>\n",
       "      <td>US</td>\n",
       "      <td>0</td>\n",
       "      <td>US</td>\n",
       "      <td>M</td>\n",
       "    </tr>\n",
       "    <tr>\n",
       "      <th>8</th>\n",
       "      <td>2024</td>\n",
       "      <td>MI</td>\n",
       "      <td>FT</td>\n",
       "      <td>Business Intelligence Developer</td>\n",
       "      <td>105000</td>\n",
       "      <td>USD</td>\n",
       "      <td>105000</td>\n",
       "      <td>US</td>\n",
       "      <td>100</td>\n",
       "      <td>US</td>\n",
       "      <td>M</td>\n",
       "    </tr>\n",
       "    <tr>\n",
       "      <th>9</th>\n",
       "      <td>2024</td>\n",
       "      <td>MI</td>\n",
       "      <td>FT</td>\n",
       "      <td>Business Intelligence Developer</td>\n",
       "      <td>80000</td>\n",
       "      <td>USD</td>\n",
       "      <td>80000</td>\n",
       "      <td>US</td>\n",
       "      <td>100</td>\n",
       "      <td>US</td>\n",
       "      <td>M</td>\n",
       "    </tr>\n",
       "  </tbody>\n",
       "</table>\n",
       "</div>"
      ],
      "text/plain": [
       "   work_year experience_level employment_type  \\\n",
       "0       2024               EN              FT   \n",
       "1       2024               EN              FT   \n",
       "2       2024               SE              FT   \n",
       "3       2024               SE              FT   \n",
       "4       2024               SE              FT   \n",
       "5       2024               SE              FT   \n",
       "6       2024               SE              FT   \n",
       "7       2024               SE              FT   \n",
       "8       2024               MI              FT   \n",
       "9       2024               MI              FT   \n",
       "\n",
       "                         job_title  salary salary_currency  salary_in_usd  \\\n",
       "0                 Research Analyst  200000             USD         200000   \n",
       "1                 Research Analyst  150000             USD         150000   \n",
       "2        Machine Learning Engineer  220000             USD         220000   \n",
       "3        Machine Learning Engineer  137500             USD         137500   \n",
       "4                     Data Science  170000             USD         170000   \n",
       "5                     Data Science  130000             USD         130000   \n",
       "6    Business Intelligence Analyst  138000             USD         138000   \n",
       "7    Business Intelligence Analyst   86000             USD          86000   \n",
       "8  Business Intelligence Developer  105000             USD         105000   \n",
       "9  Business Intelligence Developer   80000             USD          80000   \n",
       "\n",
       "  employee_residence  remote_ratio company_location company_size  \n",
       "0                 US             0               US            M  \n",
       "1                 US             0               US            M  \n",
       "2                 US             0               US            M  \n",
       "3                 US             0               US            M  \n",
       "4                 US             0               US            M  \n",
       "5                 US             0               US            M  \n",
       "6                 US             0               US            M  \n",
       "7                 US             0               US            M  \n",
       "8                 US           100               US            M  \n",
       "9                 US           100               US            M  "
      ]
     },
     "execution_count": 2,
     "metadata": {},
     "output_type": "execute_result"
    }
   ],
   "source": [
    "#Imported on 15/02/2024\n",
    "df = pd.read_csv('https://ai-jobs.net/salaries/download/salaries.csv')\n",
    "df.head(10)"
   ]
  },
  {
   "cell_type": "code",
   "execution_count": 3,
   "id": "d0412ae1-2558-4f53-909c-37da4e70eb88",
   "metadata": {
    "tags": []
   },
   "outputs": [
    {
     "name": "stdout",
     "output_type": "stream",
     "text": [
      "<class 'pandas.core.frame.DataFrame'>\n",
      "RangeIndex: 12688 entries, 0 to 12687\n",
      "Data columns (total 11 columns):\n",
      " #   Column              Non-Null Count  Dtype \n",
      "---  ------              --------------  ----- \n",
      " 0   work_year           12688 non-null  int64 \n",
      " 1   experience_level    12688 non-null  object\n",
      " 2   employment_type     12688 non-null  object\n",
      " 3   job_title           12688 non-null  object\n",
      " 4   salary              12688 non-null  int64 \n",
      " 5   salary_currency     12688 non-null  object\n",
      " 6   salary_in_usd       12688 non-null  int64 \n",
      " 7   employee_residence  12688 non-null  object\n",
      " 8   remote_ratio        12688 non-null  int64 \n",
      " 9   company_location    12688 non-null  object\n",
      " 10  company_size        12688 non-null  object\n",
      "dtypes: int64(4), object(7)\n",
      "memory usage: 1.1+ MB\n"
     ]
    }
   ],
   "source": [
    "df.info()"
   ]
  },
  {
   "cell_type": "code",
   "execution_count": 4,
   "id": "1bbd6c21-88ef-46bf-8b18-9e633a7707b5",
   "metadata": {
    "tags": []
   },
   "outputs": [
    {
     "name": "stdout",
     "output_type": "stream",
     "text": [
      "<class 'pandas.core.frame.DataFrame'>\n",
      "Index: 7751 entries, 0 to 12687\n",
      "Data columns (total 11 columns):\n",
      " #   Column              Non-Null Count  Dtype \n",
      "---  ------              --------------  ----- \n",
      " 0   work_year           7751 non-null   int64 \n",
      " 1   experience_level    7751 non-null   object\n",
      " 2   employment_type     7751 non-null   object\n",
      " 3   job_title           7751 non-null   object\n",
      " 4   salary              7751 non-null   int64 \n",
      " 5   salary_currency     7751 non-null   object\n",
      " 6   salary_in_usd       7751 non-null   int64 \n",
      " 7   employee_residence  7751 non-null   object\n",
      " 8   remote_ratio        7751 non-null   int64 \n",
      " 9   company_location    7751 non-null   object\n",
      " 10  company_size        7751 non-null   object\n",
      "dtypes: int64(4), object(7)\n",
      "memory usage: 726.7+ KB\n"
     ]
    }
   ],
   "source": [
    "df.drop_duplicates().info()"
   ]
  },
  {
   "cell_type": "markdown",
   "id": "6cfefa63-74e6-4873-b27e-971d998fa0a6",
   "metadata": {},
   "source": [
    "Dropping duplicates drops 4936 columns which leaves ~60% of the data intact. Considering the data is user collected, this could be from clicking the submit button multiple times, submitting salaries multiple times on purpose or perhaps entries that are not actually duplicates. All the duplicates will be dropped as there no justification for keeping them."
   ]
  },
  {
   "cell_type": "markdown",
   "id": "728055a0-ab70-4ccf-a956-2c9bd93473d4",
   "metadata": {},
   "source": [
    "The datasource has 11 columns and 7751 rows after removing duplicates.\n",
    "There is no missing data in the dataset.\n",
    "\n",
    "`work_year`, `salary`, `salary_in_usd`, `remote_ratio` are int64\n",
    "\n",
    "All other columns are strings"
   ]
  },
  {
   "cell_type": "code",
   "execution_count": 5,
   "id": "227c9e36-e691-45b5-a3fd-a628802ea770",
   "metadata": {
    "tags": []
   },
   "outputs": [],
   "source": [
    "def sorted_list_col(column):\n",
    "    print('{entries} unique entries in the {column} column \\n'.format(entries=len(df[column].unique()), column=column))\n",
    "    print(np.sort(df[column].unique()))\n"
   ]
  },
  {
   "cell_type": "code",
   "execution_count": 6,
   "id": "eebd6aba-a67c-47ba-b2a4-cb4e6325fdaa",
   "metadata": {
    "tags": []
   },
   "outputs": [
    {
     "name": "stdout",
     "output_type": "stream",
     "text": [
      "139 unique entries in the job_title column \n",
      "\n",
      "['AI Architect' 'AI Developer' 'AI Engineer' 'AI Product Manager'\n",
      " 'AI Programmer' 'AI Research Engineer' 'AI Scientist'\n",
      " 'AWS Data Architect' 'Admin & Data Analyst' 'Analytics Engineer'\n",
      " 'Analytics Engineering Manager' 'Applied Data Scientist'\n",
      " 'Applied Machine Learning Engineer' 'Applied Machine Learning Scientist'\n",
      " 'Applied Scientist' 'Autonomous Vehicle Technician' 'Azure Data Engineer'\n",
      " 'BI Analyst' 'BI Data Analyst' 'BI Data Engineer' 'BI Developer'\n",
      " 'Big Data Architect' 'Big Data Engineer' 'Business Data Analyst'\n",
      " 'Business Intelligence' 'Business Intelligence Analyst'\n",
      " 'Business Intelligence Data Analyst' 'Business Intelligence Developer'\n",
      " 'Business Intelligence Engineer' 'Business Intelligence Lead'\n",
      " 'Business Intelligence Manager' 'Business Intelligence Specialist'\n",
      " 'Cloud Data Architect' 'Cloud Data Engineer' 'Cloud Database Engineer'\n",
      " 'Compliance Data Analyst' 'Computer Vision Engineer'\n",
      " 'Computer Vision Software Engineer' 'Consultant Data Engineer'\n",
      " 'Data Analyst' 'Data Analyst Lead' 'Data Analytics Consultant'\n",
      " 'Data Analytics Engineer' 'Data Analytics Lead' 'Data Analytics Manager'\n",
      " 'Data Analytics Specialist' 'Data Architect' 'Data DevOps Engineer'\n",
      " 'Data Developer' 'Data Engineer' 'Data Infrastructure Engineer'\n",
      " 'Data Integration Developer' 'Data Integration Engineer'\n",
      " 'Data Integration Specialist' 'Data Lead' 'Data Management Analyst'\n",
      " 'Data Management Specialist' 'Data Manager' 'Data Modeler'\n",
      " 'Data Modeller' 'Data Operations Analyst' 'Data Operations Associate'\n",
      " 'Data Operations Engineer' 'Data Operations Manager'\n",
      " 'Data Operations Specialist' 'Data Pipeline Engineer'\n",
      " 'Data Product Manager' 'Data Product Owner' 'Data Quality Analyst'\n",
      " 'Data Quality Engineer' 'Data Quality Manager' 'Data Science'\n",
      " 'Data Science Consultant' 'Data Science Director' 'Data Science Engineer'\n",
      " 'Data Science Lead' 'Data Science Manager' 'Data Science Practitioner'\n",
      " 'Data Science Tech Lead' 'Data Scientist' 'Data Scientist Lead'\n",
      " 'Data Specialist' 'Data Strategist' 'Data Strategy Manager'\n",
      " 'Data Visualization Analyst' 'Data Visualization Engineer'\n",
      " 'Data Visualization Specialist' 'Decision Scientist'\n",
      " 'Deep Learning Engineer' 'Deep Learning Researcher'\n",
      " 'Director of Data Science' 'ETL Developer' 'ETL Engineer'\n",
      " 'Finance Data Analyst' 'Financial Data Analyst' 'Head of Data'\n",
      " 'Head of Data Science' 'Head of Machine Learning' 'Insight Analyst'\n",
      " 'Lead Data Analyst' 'Lead Data Engineer' 'Lead Data Scientist'\n",
      " 'Lead Machine Learning Engineer' 'ML Engineer' 'ML Ops Engineer'\n",
      " 'MLOps Engineer' 'Machine Learning Developer' 'Machine Learning Engineer'\n",
      " 'Machine Learning Infrastructure Engineer' 'Machine Learning Manager'\n",
      " 'Machine Learning Modeler' 'Machine Learning Operations Engineer'\n",
      " 'Machine Learning Research Engineer' 'Machine Learning Researcher'\n",
      " 'Machine Learning Scientist' 'Machine Learning Software Engineer'\n",
      " 'Machine Learning Specialist' 'Manager Data Management'\n",
      " 'Managing Director Data Science' 'Marketing Data Analyst'\n",
      " 'Marketing Data Engineer' 'Marketing Data Scientist' 'NLP Engineer'\n",
      " 'Power BI Developer' 'Principal Data Analyst' 'Principal Data Architect'\n",
      " 'Principal Data Engineer' 'Principal Data Scientist'\n",
      " 'Principal Machine Learning Engineer' 'Product Data Analyst'\n",
      " 'Prompt Engineer' 'Research Analyst' 'Research Engineer'\n",
      " 'Research Scientist' 'Sales Data Analyst' 'Software Data Engineer'\n",
      " 'Staff Data Analyst' 'Staff Data Scientist'\n",
      " 'Staff Machine Learning Engineer']\n"
     ]
    }
   ],
   "source": [
    "sorted_list_col('job_title')"
   ]
  },
  {
   "cell_type": "markdown",
   "id": "c633a8eb-db8d-4298-af70-72f8febb778e",
   "metadata": {},
   "source": [
    "I am noticing that there is some overlap in the job titles. Here are a few examples:\n",
    "1. BI Analyst, BI Data Analyst, Business Intelligence Analyst and Business Intelligence Data Analyst\n",
    "2. Data Modeler, Data Modeller\n",
    "3. Computer Vision Engineer, Computer Vision Software Engineer\n",
    "4. MLOps Engineer, Machine Learning Operations Engineer\n",
    "5. Product Data Analyst vs Sales Data Analyst?\n",
    "\n",
    "Consolidating the job titles will be an effective way to improve the model performance. A good idea might be to build a dictionary with each title and all the sub titles that exist in this dataset that way a mapping function can be used to quickly create a new column with consolidated job descriptions. This will be explored fully in the EDA stage of the project.\n",
    "\n",
    "Another idea might be to identify keywords in the job titles e.g. Engineer vs Analyst vs Scientist or Principal vs Staff vs Lead to help delineate levels and roles and understand ther impact on the salary."
   ]
  },
  {
   "cell_type": "code",
   "execution_count": 7,
   "id": "bf320b50-4d96-4dc5-85e4-cf4e9f06d709",
   "metadata": {
    "tags": []
   },
   "outputs": [
    {
     "name": "stdout",
     "output_type": "stream",
     "text": [
      "4 unique entries in the experience_level column \n",
      "\n",
      "['EN' 'EX' 'MI' 'SE']\n"
     ]
    }
   ],
   "source": [
    "sorted_list_col('experience_level')"
   ]
  },
  {
   "cell_type": "markdown",
   "id": "4a0c56c9-9077-4ca3-aff0-74b71ca24f0c",
   "metadata": {},
   "source": [
    "This is a straightforward column with only 4 entries. During feature engineering, these can be assigned to integers ordered by increasing seniority.\n",
    "\n",
    "EN- entry level\n",
    "EX- executive level\n",
    "MI- mid level\n",
    "SE- senior level"
   ]
  },
  {
   "cell_type": "code",
   "execution_count": 8,
   "id": "b9706e32-99b6-4a9a-b3c3-254ad58179c8",
   "metadata": {
    "tags": []
   },
   "outputs": [
    {
     "name": "stdout",
     "output_type": "stream",
     "text": [
      "4 unique entries in the employment_type column \n",
      "\n",
      "['CT' 'FL' 'FT' 'PT']\n"
     ]
    }
   ],
   "source": [
    "sorted_list_col('employment_type')"
   ]
  },
  {
   "cell_type": "markdown",
   "id": "2015e1da-b4f4-4715-a5c3-9c61bbd8ff98",
   "metadata": {},
   "source": [
    "Like the `experience_level` column, there are only 4 possibilities. Unlike the previous example, these should probably be listed as categorical during feature engineering as there is not necessary expected that salary will correlate directly with employment type\n",
    "\n",
    "CT- contract\n",
    "FL- freelance\n",
    "FT- full time\n",
    "PT- part time"
   ]
  },
  {
   "cell_type": "code",
   "execution_count": 9,
   "id": "282cda22-8f9b-461d-8f7a-5e109f9f9300",
   "metadata": {
    "tags": []
   },
   "outputs": [
    {
     "name": "stdout",
     "output_type": "stream",
     "text": [
      "87 unique entries in the employee_residence column \n",
      "\n",
      "['AD' 'AE' 'AM' 'AR' 'AS' 'AT' 'AU' 'BA' 'BE' 'BG' 'BO' 'BR' 'CA' 'CF'\n",
      " 'CH' 'CL' 'CN' 'CO' 'CR' 'CY' 'CZ' 'DE' 'DK' 'DO' 'DZ' 'EC' 'EE' 'EG'\n",
      " 'ES' 'FI' 'FR' 'GB' 'GE' 'GH' 'GR' 'HK' 'HN' 'HR' 'HU' 'ID' 'IE' 'IL'\n",
      " 'IN' 'IQ' 'IR' 'IT' 'JE' 'JP' 'KE' 'KR' 'KW' 'LB' 'LT' 'LU' 'LV' 'MD'\n",
      " 'MT' 'MU' 'MX' 'MY' 'NG' 'NL' 'NO' 'NZ' 'PE' 'PH' 'PK' 'PL' 'PR' 'PT'\n",
      " 'QA' 'RO' 'RS' 'RU' 'SA' 'SE' 'SG' 'SI' 'TH' 'TN' 'TR' 'UA' 'UG' 'US'\n",
      " 'UZ' 'VN' 'ZA']\n"
     ]
    }
   ],
   "source": [
    "sorted_list_col('employee_residence')"
   ]
  },
  {
   "cell_type": "markdown",
   "id": "3a888220-30e5-406f-8fae-6383700c23a3",
   "metadata": {},
   "source": [
    "The data is collected from 87 unique countries. This offers a broad selection of countries however it would be important to see the distribution of data by country. I hypothesize that the country will substantially affect the salary of data professionals."
   ]
  },
  {
   "cell_type": "code",
   "execution_count": 10,
   "id": "ad94ac3a-7598-4aaf-acf0-75fea22785a4",
   "metadata": {
    "tags": []
   },
   "outputs": [
    {
     "name": "stdout",
     "output_type": "stream",
     "text": [
      "23 unique entries in the salary_currency column \n",
      "\n",
      "['AUD' 'BRL' 'CAD' 'CHF' 'CLP' 'DKK' 'EUR' 'GBP' 'HKD' 'HUF' 'ILS' 'INR'\n",
      " 'JPY' 'MXN' 'NOK' 'NZD' 'PHP' 'PLN' 'SGD' 'THB' 'TRY' 'USD' 'ZAR']\n"
     ]
    }
   ],
   "source": [
    "sorted_list_col('salary_currency')"
   ]
  },
  {
   "cell_type": "markdown",
   "id": "07e45256-fd42-4d71-996e-c891fb7738a5",
   "metadata": {},
   "source": [
    "On it's own, the currency column would simply serve the purpose of converting the salary to USD using the exchange rate since the salaries are provided in local currency and will be dropped."
   ]
  },
  {
   "cell_type": "code",
   "execution_count": 11,
   "id": "896effe2-f90f-46e0-9d90-98083984d38a",
   "metadata": {
    "tags": []
   },
   "outputs": [
    {
     "name": "stdout",
     "output_type": "stream",
     "text": [
      "3 unique entries in the company_size column \n",
      "\n",
      "['L' 'M' 'S']\n"
     ]
    }
   ],
   "source": [
    "sorted_list_col('company_size')"
   ]
  },
  {
   "cell_type": "markdown",
   "id": "4b4c11bb-66c0-462b-828f-020d503dc6f8",
   "metadata": {},
   "source": [
    "This column has three possible values L-large, M-medium, S-small. No transformations are needed for this column."
   ]
  },
  {
   "cell_type": "code",
   "execution_count": 12,
   "id": "e45fe31b-544f-441a-97b6-239f3ed4b789",
   "metadata": {
    "tags": []
   },
   "outputs": [
    {
     "name": "stdout",
     "output_type": "stream",
     "text": [
      "76 unique entries in the company_location column \n",
      "\n",
      "['AD' 'AE' 'AM' 'AR' 'AS' 'AT' 'AU' 'BA' 'BE' 'BR' 'BS' 'CA' 'CF' 'CH'\n",
      " 'CL' 'CN' 'CO' 'CZ' 'DE' 'DK' 'DZ' 'EC' 'EE' 'EG' 'ES' 'FI' 'FR' 'GB'\n",
      " 'GH' 'GI' 'GR' 'HK' 'HN' 'HR' 'HU' 'ID' 'IE' 'IL' 'IN' 'IQ' 'IR' 'IT'\n",
      " 'JP' 'KE' 'KR' 'LB' 'LT' 'LU' 'LV' 'MD' 'MT' 'MU' 'MX' 'MY' 'NG' 'NL'\n",
      " 'NO' 'NZ' 'PH' 'PK' 'PL' 'PR' 'PT' 'QA' 'RO' 'RU' 'SA' 'SE' 'SG' 'SI'\n",
      " 'TH' 'TR' 'UA' 'US' 'VN' 'ZA']\n"
     ]
    }
   ],
   "source": [
    "sorted_list_col('company_location')"
   ]
  },
  {
   "cell_type": "markdown",
   "id": "ac21e3b7-f892-47f8-9652-e1ba135270a9",
   "metadata": {},
   "source": [
    "This column consists of 76 unique countries, which is fewer than the number of coutries where the employees reside. A possible new feature would be whether the employee is based in the same location as the country's main office."
   ]
  },
  {
   "cell_type": "code",
   "execution_count": 13,
   "id": "75fd922e-6997-4453-842d-9d80c99697e4",
   "metadata": {
    "tags": []
   },
   "outputs": [
    {
     "name": "stdout",
     "output_type": "stream",
     "text": [
      "3 unique entries in the remote_ratio column \n",
      "\n",
      "[  0  50 100]\n"
     ]
    }
   ],
   "source": [
    "sorted_list_col('remote_ratio')"
   ]
  },
  {
   "cell_type": "markdown",
   "id": "5c2d14dc-a708-4c0b-a364-b31b25e30a13",
   "metadata": {},
   "source": [
    "This column, notably only has three possible values which refer to 0-onsite, 50-hybrid, 100-remote. I will leave this column as is\n"
   ]
  },
  {
   "cell_type": "code",
   "execution_count": 14,
   "id": "c6ea1993-ee1c-4eb8-a97b-f98b3aab988c",
   "metadata": {
    "tags": []
   },
   "outputs": [
    {
     "data": {
      "text/html": [
       "<div>\n",
       "<style scoped>\n",
       "    .dataframe tbody tr th:only-of-type {\n",
       "        vertical-align: middle;\n",
       "    }\n",
       "\n",
       "    .dataframe tbody tr th {\n",
       "        vertical-align: top;\n",
       "    }\n",
       "\n",
       "    .dataframe thead th {\n",
       "        text-align: right;\n",
       "    }\n",
       "</style>\n",
       "<table border=\"1\" class=\"dataframe\">\n",
       "  <thead>\n",
       "    <tr style=\"text-align: right;\">\n",
       "      <th></th>\n",
       "      <th>work_year</th>\n",
       "      <th>salary</th>\n",
       "      <th>salary_in_usd</th>\n",
       "    </tr>\n",
       "  </thead>\n",
       "  <tbody>\n",
       "    <tr>\n",
       "      <th>count</th>\n",
       "      <td>12688.000000</td>\n",
       "      <td>1.268800e+04</td>\n",
       "      <td>12688.000000</td>\n",
       "    </tr>\n",
       "    <tr>\n",
       "      <th>mean</th>\n",
       "      <td>2022.993301</td>\n",
       "      <td>1.674197e+05</td>\n",
       "      <td>149785.706967</td>\n",
       "    </tr>\n",
       "    <tr>\n",
       "      <th>std</th>\n",
       "      <td>0.654000</td>\n",
       "      <td>3.834499e+05</td>\n",
       "      <td>67922.547445</td>\n",
       "    </tr>\n",
       "    <tr>\n",
       "      <th>min</th>\n",
       "      <td>2020.000000</td>\n",
       "      <td>1.400000e+04</td>\n",
       "      <td>15000.000000</td>\n",
       "    </tr>\n",
       "    <tr>\n",
       "      <th>25%</th>\n",
       "      <td>2023.000000</td>\n",
       "      <td>1.040000e+05</td>\n",
       "      <td>103762.250000</td>\n",
       "    </tr>\n",
       "    <tr>\n",
       "      <th>50%</th>\n",
       "      <td>2023.000000</td>\n",
       "      <td>1.422000e+05</td>\n",
       "      <td>141525.000000</td>\n",
       "    </tr>\n",
       "    <tr>\n",
       "      <th>75%</th>\n",
       "      <td>2023.000000</td>\n",
       "      <td>1.880250e+05</td>\n",
       "      <td>185900.000000</td>\n",
       "    </tr>\n",
       "    <tr>\n",
       "      <th>max</th>\n",
       "      <td>2024.000000</td>\n",
       "      <td>3.040000e+07</td>\n",
       "      <td>750000.000000</td>\n",
       "    </tr>\n",
       "  </tbody>\n",
       "</table>\n",
       "</div>"
      ],
      "text/plain": [
       "          work_year        salary  salary_in_usd\n",
       "count  12688.000000  1.268800e+04   12688.000000\n",
       "mean    2022.993301  1.674197e+05  149785.706967\n",
       "std        0.654000  3.834499e+05   67922.547445\n",
       "min     2020.000000  1.400000e+04   15000.000000\n",
       "25%     2023.000000  1.040000e+05  103762.250000\n",
       "50%     2023.000000  1.422000e+05  141525.000000\n",
       "75%     2023.000000  1.880250e+05  185900.000000\n",
       "max     2024.000000  3.040000e+07  750000.000000"
      ]
     },
     "execution_count": 14,
     "metadata": {},
     "output_type": "execute_result"
    }
   ],
   "source": [
    "df.drop('remote_ratio',axis=1).describe()"
   ]
  },
  {
   "cell_type": "markdown",
   "id": "163461c8-c0b0-4749-a515-3dbda1e54656",
   "metadata": {},
   "source": [
    "Regarding the numeric columns.\n",
    "\n",
    "`work_year` The work year indicates that this dataset has collected data between 2020 and 2024\n",
    "\n",
    "`salary` The data has a very wide range from 14,000 to 30,000,000. However these numbers are useless on their own as they do not consider purchasing power. Instead of focusing only on the salary in USD, it may be interesting to do a conversion with the data using the purchasing power for each country and year to get a better idea of the salary by country. Perhaps the purchase power parity would be useful feature for the model that could be merged with the existing dataframe.\n",
    "\n",
    "`salary_in_usd` The range on this data column is much smaller than the raw salary column. The data ranges from 15,000 USD to 750,000 USD. With a median of 142,000 the data appears skewed however that may be due to an uneven distribution of seniority levels and countries in the dataset.\n"
   ]
  },
  {
   "cell_type": "markdown",
   "id": "276b657f-dfab-4a0d-ad94-c0517526ec82",
   "metadata": {},
   "source": [
    "## Conclusions:\n",
    "The dataset has no missing values however about 40% of the data is duplicated and the duplicates will need to be dropped.\n",
    "\n",
    "The job title column has overlapping job titles and consolidation should improve the results from the model.\n",
    "\n",
    "\n",
    "\n",
    "No other columns seem to have any unusual data in them."
   ]
  }
 ],
 "metadata": {
  "kernelspec": {
   "display_name": "Python 3 (ipykernel)",
   "language": "python",
   "name": "python3"
  },
  "language_info": {
   "codemirror_mode": {
    "name": "ipython",
    "version": 3
   },
   "file_extension": ".py",
   "mimetype": "text/x-python",
   "name": "python",
   "nbconvert_exporter": "python",
   "pygments_lexer": "ipython3",
   "version": "3.11.5"
  }
 },
 "nbformat": 4,
 "nbformat_minor": 5
}
